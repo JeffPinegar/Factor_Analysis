{
 "cells": [
  {
   "cell_type": "code",
   "execution_count": 125,
   "metadata": {},
   "outputs": [],
   "source": [
    "import pandas as pd\n",
    "from factor_analyzer import FactorAnalyzer\n",
    "from factor_analyzer.factor_analyzer import calculate_kmo\n",
    "from factor_analyzer.factor_analyzer import calculate_bartlett_sphericity\n",
    "from sklearn.preprocessing import StandardScaler, MinMaxScaler, LabelEncoder\n",
    "from sklearn.preprocessing import OneHotEncoder\n",
    "import matplotlib.pyplot as plt\n",
    "import seaborn as sns\n",
    "\n",
    "import pingouin as pg   # https://pingouin-stats.org/build/html/index.html  usede for calculation of cronbach_alpha"
   ]
  },
  {
   "cell_type": "code",
   "execution_count": 126,
   "metadata": {},
   "outputs": [
    {
     "data": {
      "text/html": [
       "<div>\n",
       "<style scoped>\n",
       "    .dataframe tbody tr th:only-of-type {\n",
       "        vertical-align: middle;\n",
       "    }\n",
       "\n",
       "    .dataframe tbody tr th {\n",
       "        vertical-align: top;\n",
       "    }\n",
       "\n",
       "    .dataframe thead th {\n",
       "        text-align: right;\n",
       "    }\n",
       "</style>\n",
       "<table border=\"1\" class=\"dataframe\">\n",
       "  <thead>\n",
       "    <tr style=\"text-align: right;\">\n",
       "      <th></th>\n",
       "      <th>Unnamed: 0</th>\n",
       "      <th>id</th>\n",
       "      <th>Gender</th>\n",
       "      <th>Customer Type</th>\n",
       "      <th>Age</th>\n",
       "      <th>Type of Travel</th>\n",
       "      <th>Class</th>\n",
       "      <th>Flight Distance</th>\n",
       "      <th>Inflight wifi service</th>\n",
       "      <th>Departure/Arrival time convenient</th>\n",
       "      <th>...</th>\n",
       "      <th>Inflight entertainment</th>\n",
       "      <th>On-board service</th>\n",
       "      <th>Leg room service</th>\n",
       "      <th>Baggage handling</th>\n",
       "      <th>Checkin service</th>\n",
       "      <th>Inflight service</th>\n",
       "      <th>Cleanliness</th>\n",
       "      <th>Departure Delay in Minutes</th>\n",
       "      <th>Arrival Delay in Minutes</th>\n",
       "      <th>satisfaction</th>\n",
       "    </tr>\n",
       "  </thead>\n",
       "  <tbody>\n",
       "    <tr>\n",
       "      <th>0</th>\n",
       "      <td>0</td>\n",
       "      <td>70172</td>\n",
       "      <td>Male</td>\n",
       "      <td>Loyal Customer</td>\n",
       "      <td>13</td>\n",
       "      <td>Personal Travel</td>\n",
       "      <td>Eco Plus</td>\n",
       "      <td>460</td>\n",
       "      <td>3</td>\n",
       "      <td>4</td>\n",
       "      <td>...</td>\n",
       "      <td>5</td>\n",
       "      <td>4</td>\n",
       "      <td>3</td>\n",
       "      <td>4</td>\n",
       "      <td>4</td>\n",
       "      <td>5</td>\n",
       "      <td>5</td>\n",
       "      <td>25</td>\n",
       "      <td>18.0</td>\n",
       "      <td>neutral or dissatisfied</td>\n",
       "    </tr>\n",
       "    <tr>\n",
       "      <th>1</th>\n",
       "      <td>1</td>\n",
       "      <td>5047</td>\n",
       "      <td>Male</td>\n",
       "      <td>disloyal Customer</td>\n",
       "      <td>25</td>\n",
       "      <td>Business travel</td>\n",
       "      <td>Business</td>\n",
       "      <td>235</td>\n",
       "      <td>3</td>\n",
       "      <td>2</td>\n",
       "      <td>...</td>\n",
       "      <td>1</td>\n",
       "      <td>1</td>\n",
       "      <td>5</td>\n",
       "      <td>3</td>\n",
       "      <td>1</td>\n",
       "      <td>4</td>\n",
       "      <td>1</td>\n",
       "      <td>1</td>\n",
       "      <td>6.0</td>\n",
       "      <td>neutral or dissatisfied</td>\n",
       "    </tr>\n",
       "    <tr>\n",
       "      <th>2</th>\n",
       "      <td>2</td>\n",
       "      <td>110028</td>\n",
       "      <td>Female</td>\n",
       "      <td>Loyal Customer</td>\n",
       "      <td>26</td>\n",
       "      <td>Business travel</td>\n",
       "      <td>Business</td>\n",
       "      <td>1142</td>\n",
       "      <td>2</td>\n",
       "      <td>2</td>\n",
       "      <td>...</td>\n",
       "      <td>5</td>\n",
       "      <td>4</td>\n",
       "      <td>3</td>\n",
       "      <td>4</td>\n",
       "      <td>4</td>\n",
       "      <td>4</td>\n",
       "      <td>5</td>\n",
       "      <td>0</td>\n",
       "      <td>0.0</td>\n",
       "      <td>satisfied</td>\n",
       "    </tr>\n",
       "    <tr>\n",
       "      <th>3</th>\n",
       "      <td>3</td>\n",
       "      <td>24026</td>\n",
       "      <td>Female</td>\n",
       "      <td>Loyal Customer</td>\n",
       "      <td>25</td>\n",
       "      <td>Business travel</td>\n",
       "      <td>Business</td>\n",
       "      <td>562</td>\n",
       "      <td>2</td>\n",
       "      <td>5</td>\n",
       "      <td>...</td>\n",
       "      <td>2</td>\n",
       "      <td>2</td>\n",
       "      <td>5</td>\n",
       "      <td>3</td>\n",
       "      <td>1</td>\n",
       "      <td>4</td>\n",
       "      <td>2</td>\n",
       "      <td>11</td>\n",
       "      <td>9.0</td>\n",
       "      <td>neutral or dissatisfied</td>\n",
       "    </tr>\n",
       "    <tr>\n",
       "      <th>4</th>\n",
       "      <td>4</td>\n",
       "      <td>119299</td>\n",
       "      <td>Male</td>\n",
       "      <td>Loyal Customer</td>\n",
       "      <td>61</td>\n",
       "      <td>Business travel</td>\n",
       "      <td>Business</td>\n",
       "      <td>214</td>\n",
       "      <td>3</td>\n",
       "      <td>3</td>\n",
       "      <td>...</td>\n",
       "      <td>3</td>\n",
       "      <td>3</td>\n",
       "      <td>4</td>\n",
       "      <td>4</td>\n",
       "      <td>3</td>\n",
       "      <td>3</td>\n",
       "      <td>3</td>\n",
       "      <td>0</td>\n",
       "      <td>0.0</td>\n",
       "      <td>satisfied</td>\n",
       "    </tr>\n",
       "  </tbody>\n",
       "</table>\n",
       "<p>5 rows × 25 columns</p>\n",
       "</div>"
      ],
      "text/plain": [
       "   Unnamed: 0      id  Gender      Customer Type  Age   Type of Travel  \\\n",
       "0           0   70172    Male     Loyal Customer   13  Personal Travel   \n",
       "1           1    5047    Male  disloyal Customer   25  Business travel   \n",
       "2           2  110028  Female     Loyal Customer   26  Business travel   \n",
       "3           3   24026  Female     Loyal Customer   25  Business travel   \n",
       "4           4  119299    Male     Loyal Customer   61  Business travel   \n",
       "\n",
       "      Class  Flight Distance  Inflight wifi service  \\\n",
       "0  Eco Plus              460                      3   \n",
       "1  Business              235                      3   \n",
       "2  Business             1142                      2   \n",
       "3  Business              562                      2   \n",
       "4  Business              214                      3   \n",
       "\n",
       "   Departure/Arrival time convenient  ...  Inflight entertainment  \\\n",
       "0                                  4  ...                       5   \n",
       "1                                  2  ...                       1   \n",
       "2                                  2  ...                       5   \n",
       "3                                  5  ...                       2   \n",
       "4                                  3  ...                       3   \n",
       "\n",
       "   On-board service  Leg room service  Baggage handling  Checkin service  \\\n",
       "0                 4                 3                 4                4   \n",
       "1                 1                 5                 3                1   \n",
       "2                 4                 3                 4                4   \n",
       "3                 2                 5                 3                1   \n",
       "4                 3                 4                 4                3   \n",
       "\n",
       "   Inflight service  Cleanliness  Departure Delay in Minutes  \\\n",
       "0                 5            5                          25   \n",
       "1                 4            1                           1   \n",
       "2                 4            5                           0   \n",
       "3                 4            2                          11   \n",
       "4                 3            3                           0   \n",
       "\n",
       "   Arrival Delay in Minutes             satisfaction  \n",
       "0                      18.0  neutral or dissatisfied  \n",
       "1                       6.0  neutral or dissatisfied  \n",
       "2                       0.0                satisfied  \n",
       "3                       9.0  neutral or dissatisfied  \n",
       "4                       0.0                satisfied  \n",
       "\n",
       "[5 rows x 25 columns]"
      ]
     },
     "execution_count": 126,
     "metadata": {},
     "output_type": "execute_result"
    }
   ],
   "source": [
    "df= pd.read_csv(\"Airline_Passenger_Satisfaction_train.csv\")\n",
    "df.head()"
   ]
  },
  {
   "cell_type": "code",
   "execution_count": 127,
   "metadata": {},
   "outputs": [
    {
     "data": {
      "text/plain": [
       "Index(['Unnamed: 0', 'id', 'Gender', 'Customer Type', 'Age', 'Type of Travel',\n",
       "       'Class', 'Flight Distance', 'Inflight wifi service',\n",
       "       'Departure/Arrival time convenient', 'Ease of Online booking',\n",
       "       'Gate location', 'Food and drink', 'Online boarding', 'Seat comfort',\n",
       "       'Inflight entertainment', 'On-board service', 'Leg room service',\n",
       "       'Baggage handling', 'Checkin service', 'Inflight service',\n",
       "       'Cleanliness', 'Departure Delay in Minutes', 'Arrival Delay in Minutes',\n",
       "       'satisfaction'],\n",
       "      dtype='object')"
      ]
     },
     "execution_count": 127,
     "metadata": {},
     "output_type": "execute_result"
    }
   ],
   "source": [
    "df.columns"
   ]
  },
  {
   "cell_type": "code",
   "execution_count": 128,
   "metadata": {},
   "outputs": [
    {
     "data": {
      "text/plain": [
       "Unnamed: 0                             int64\n",
       "id                                     int64\n",
       "Gender                                object\n",
       "Customer Type                         object\n",
       "Age                                    int64\n",
       "Type of Travel                        object\n",
       "Class                                 object\n",
       "Flight Distance                        int64\n",
       "Inflight wifi service                  int64\n",
       "Departure/Arrival time convenient      int64\n",
       "Ease of Online booking                 int64\n",
       "Gate location                          int64\n",
       "Food and drink                         int64\n",
       "Online boarding                        int64\n",
       "Seat comfort                           int64\n",
       "Inflight entertainment                 int64\n",
       "On-board service                       int64\n",
       "Leg room service                       int64\n",
       "Baggage handling                       int64\n",
       "Checkin service                        int64\n",
       "Inflight service                       int64\n",
       "Cleanliness                            int64\n",
       "Departure Delay in Minutes             int64\n",
       "Arrival Delay in Minutes             float64\n",
       "satisfaction                          object\n",
       "dtype: object"
      ]
     },
     "execution_count": 128,
     "metadata": {},
     "output_type": "execute_result"
    }
   ],
   "source": [
    "df.dtypes"
   ]
  },
  {
   "attachments": {},
   "cell_type": "markdown",
   "metadata": {},
   "source": [
    "---\n",
    "### Correlation Visualization\n",
    "A quick look at the correlation matrix suggest there are underlying factors.  In particular it looks like there may be underlying factors with these variables.\n",
    "\n",
    "* Inflight wifi service, Departure/Arrival time convenient, Ease of Online booking, and Gate location are correlated.\n",
    "* Food and drink, Online boarding, Seat comfort, Inflight entertainment, and cleanliness\n",
    "* Inflight entertainment, On-board service, Leg room service, Baggage handling, Checkin service, and Inflight service"
   ]
  },
  {
   "cell_type": "code",
   "execution_count": 129,
   "metadata": {},
   "outputs": [
    {
     "name": "stderr",
     "output_type": "stream",
     "text": [
      "C:\\Users\\jspinega\\AppData\\Local\\Temp\\ipykernel_26868\\2369852186.py:2: FutureWarning: The default value of numeric_only in DataFrame.corr is deprecated. In a future version, it will default to False. Select only valid columns or specify the value of numeric_only to silence this warning.\n",
      "  c= df.corr()\n"
     ]
    },
    {
     "data": {
      "text/plain": [
       "<AxesSubplot: >"
      ]
     },
     "execution_count": 129,
     "metadata": {},
     "output_type": "execute_result"
    },
    {
     "data": {
      "image/png": "[encoded data removed]",
      "text/plain": [
       "<Figure size 1000x700 with 2 Axes>"
      ]
     },
     "metadata": {},
     "output_type": "display_data"
    }
   ],
   "source": [
    "plt.figure(figsize=(10,7))\n",
    "c= df.corr()\n",
    "sns.heatmap(c)"
   ]
  },
  {
   "cell_type": "code",
   "execution_count": 130,
   "metadata": {},
   "outputs": [],
   "source": [
    "# Extreamly high coorilation between “Departure Delay in Minutes” and the “Arrival Delay in Minutes” suggest that they are actually measuring the same thing.\n",
    "# So, we drop one of these varaiables.\n",
    "df.drop(['Arrival Delay in Minutes'], axis=1, inplace=True)"
   ]
  },
  {
   "cell_type": "code",
   "execution_count": 131,
   "metadata": {},
   "outputs": [],
   "source": [
    " # Subset of the data, the 14 columns containing the survey answers\n",
    " # this is the data set from the tutorial \n",
    " # https://towardsdatascience.com/factor-analysis-a-complete-tutorial-1b7621890e42\n",
    "\n",
    " x = df[['Baggage handling'\n",
    "      ,  'Checkin service'\n",
    "      ,  'Cleanliness'\n",
    "      ,  'Departure/Arrival time convenient'\n",
    "      ,  'Ease of Online booking'\n",
    "      ,  'Food and drink'\n",
    "      ,  'Gate location'\n",
    "      ,  'Inflight entertainment'\n",
    "      ,  'Inflight service'\n",
    "      ,  'Inflight wifi service'\n",
    "      ,  'Leg room service'\n",
    "      ,  'On-board service'\n",
    "      ,  'Online boarding'\n",
    "      ,  'Seat comfort']]\n"
   ]
  },
  {
   "attachments": {},
   "cell_type": "markdown",
   "metadata": {},
   "source": [
    "---\n",
    "### Adequacy Test\n",
    "Before you perform factor analysis, you need to evaluate the “factorability” of our dataset. Factorability means \"can we found the factors in the dataset?\". There are two methods to check the factorability or sampling adequacy:\n",
    "\n",
    "* Bartlett’s Test\n",
    "* Kaiser-Meyer-Olkin Test\n",
    "\n",
    "Bartlett’s test of sphericity checks whether or not the observed variables intercorrelate at all using the observed correlation matrix against the identity matrix. If the test found statistically insignificant, you should not employ a factor analysis."
   ]
  },
  {
   "cell_type": "code",
   "execution_count": 132,
   "metadata": {},
   "outputs": [
    {
     "data": {
      "text/plain": [
       "(601676.8938564002, 0.0)"
      ]
     },
     "execution_count": 132,
     "metadata": {},
     "output_type": "execute_result"
    }
   ],
   "source": [
    "chi_square_value,p_value=calculate_bartlett_sphericity(x)\n",
    "chi_square_value, p_value"
   ]
  },
  {
   "attachments": {},
   "cell_type": "markdown",
   "metadata": {},
   "source": [
    "Kaiser-Meyer-Olkin (KMO) Test measures the suitability of data for factor analysis. It determines the adequacy for each observed variable and for the complete model. KMO estimates the proportion of variance among all the observed variable. Lower proportion id more suitable for factor analysis. KMO values range between 0 and 1. Value of KMO less than 0.6 is considered inadequate."
   ]
  },
  {
   "cell_type": "code",
   "execution_count": 133,
   "metadata": {},
   "outputs": [
    {
     "data": {
      "text/plain": [
       "0.7812327154821318"
      ]
     },
     "execution_count": 133,
     "metadata": {},
     "output_type": "execute_result"
    }
   ],
   "source": [
    "kmo_all,kmo_model=calculate_kmo(x)\n",
    "kmo_model"
   ]
  },
  {
   "cell_type": "code",
   "execution_count": 134,
   "metadata": {},
   "outputs": [],
   "source": [
    "# Standardization has no impact on the results, however I am leaving it for completness\n",
    "variables = x.columns.tolist()\n",
    "# should standarize\n",
    "scaler = StandardScaler().fit(x)\n",
    "\n",
    "# use the scaler to transform my training data\n",
    "x = scaler.transform(x)"
   ]
  },
  {
   "cell_type": "code",
   "execution_count": 135,
   "metadata": {},
   "outputs": [
    {
     "data": {
      "text/plain": [
       "(103904, 14)"
      ]
     },
     "execution_count": 135,
     "metadata": {},
     "output_type": "execute_result"
    }
   ],
   "source": [
    "x.shape"
   ]
  },
  {
   "cell_type": "code",
   "execution_count": 136,
   "metadata": {},
   "outputs": [
    {
     "data": {
      "text/plain": [
       "[<matplotlib.lines.Line2D at 0x28e431dea90>]"
      ]
     },
     "execution_count": 136,
     "metadata": {},
     "output_type": "execute_result"
    },
    {
     "data": {
      "image/png": "[encoded data removed]",
      "text/plain": [
       "<Figure size 640x480 with 1 Axes>"
      ]
     },
     "metadata": {},
     "output_type": "display_data"
    }
   ],
   "source": [
    "# Perform the factor analysis\n",
    "fa = FactorAnalyzer()\n",
    "fa.fit(x, 10)\n",
    "\n",
    "#Get Eigen values and plot them\n",
    "ev, v = fa.get_eigenvalues()\n",
    "ev\n",
    "plt.plot(range(1,x.shape[1]+1),ev)"
   ]
  },
  {
   "attachments": {},
   "cell_type": "markdown",
   "metadata": {},
   "source": [
    "We will only use 3 factors here, given the big dropoff in eigenvalue after the 3rd factor. These factors have eigenvalues of 3.7, 2.3 and 2.1, meaning that they describe the variance of about 8.1 variables."
   ]
  },
  {
   "cell_type": "code",
   "execution_count": 137,
   "metadata": {},
   "outputs": [
    {
     "data": {
      "text/html": [
       "<style>#sk-container-id-7 {color: black;background-color: white;}#sk-container-id-7 pre{padding: 0;}#sk-container-id-7 div.sk-toggleable {background-color: white;}#sk-container-id-7 label.sk-toggleable__label {cursor: pointer;display: block;width: 100%;margin-bottom: 0;padding: 0.3em;box-sizing: border-box;text-align: center;}#sk-container-id-7 label.sk-toggleable__label-arrow:before {content: \"▸\";float: left;margin-right: 0.25em;color: #696969;}#sk-container-id-7 label.sk-toggleable__label-arrow:hover:before {color: black;}#sk-container-id-7 div.sk-estimator:hover label.sk-toggleable__label-arrow:before {color: black;}#sk-container-id-7 div.sk-toggleable__content {max-height: 0;max-width: 0;overflow: hidden;text-align: left;background-color: #f0f8ff;}#sk-container-id-7 div.sk-toggleable__content pre {margin: 0.2em;color: black;border-radius: 0.25em;background-color: #f0f8ff;}#sk-container-id-7 input.sk-toggleable__control:checked~div.sk-toggleable__content {max-height: 200px;max-width: 100%;overflow: auto;}#sk-container-id-7 input.sk-toggleable__control:checked~label.sk-toggleable__label-arrow:before {content: \"▾\";}#sk-container-id-7 div.sk-estimator input.sk-toggleable__control:checked~label.sk-toggleable__label {background-color: #d4ebff;}#sk-container-id-7 div.sk-label input.sk-toggleable__control:checked~label.sk-toggleable__label {background-color: #d4ebff;}#sk-container-id-7 input.sk-hidden--visually {border: 0;clip: rect(1px 1px 1px 1px);clip: rect(1px, 1px, 1px, 1px);height: 1px;margin: -1px;overflow: hidden;padding: 0;position: absolute;width: 1px;}#sk-container-id-7 div.sk-estimator {font-family: monospace;background-color: #f0f8ff;border: 1px dotted black;border-radius: 0.25em;box-sizing: border-box;margin-bottom: 0.5em;}#sk-container-id-7 div.sk-estimator:hover {background-color: #d4ebff;}#sk-container-id-7 div.sk-parallel-item::after {content: \"\";width: 100%;border-bottom: 1px solid gray;flex-grow: 1;}#sk-container-id-7 div.sk-label:hover label.sk-toggleable__label {background-color: #d4ebff;}#sk-container-id-7 div.sk-serial::before {content: \"\";position: absolute;border-left: 1px solid gray;box-sizing: border-box;top: 0;bottom: 0;left: 50%;z-index: 0;}#sk-container-id-7 div.sk-serial {display: flex;flex-direction: column;align-items: center;background-color: white;padding-right: 0.2em;padding-left: 0.2em;position: relative;}#sk-container-id-7 div.sk-item {position: relative;z-index: 1;}#sk-container-id-7 div.sk-parallel {display: flex;align-items: stretch;justify-content: center;background-color: white;position: relative;}#sk-container-id-7 div.sk-item::before, #sk-container-id-7 div.sk-parallel-item::before {content: \"\";position: absolute;border-left: 1px solid gray;box-sizing: border-box;top: 0;bottom: 0;left: 50%;z-index: -1;}#sk-container-id-7 div.sk-parallel-item {display: flex;flex-direction: column;z-index: 1;position: relative;background-color: white;}#sk-container-id-7 div.sk-parallel-item:first-child::after {align-self: flex-end;width: 50%;}#sk-container-id-7 div.sk-parallel-item:last-child::after {align-self: flex-start;width: 50%;}#sk-container-id-7 div.sk-parallel-item:only-child::after {width: 0;}#sk-container-id-7 div.sk-dashed-wrapped {border: 1px dashed gray;margin: 0 0.4em 0.5em 0.4em;box-sizing: border-box;padding-bottom: 0.4em;background-color: white;}#sk-container-id-7 div.sk-label label {font-family: monospace;font-weight: bold;display: inline-block;line-height: 1.2em;}#sk-container-id-7 div.sk-label-container {text-align: center;}#sk-container-id-7 div.sk-container {/* jupyter's `normalize.less` sets `[hidden] { display: none; }` but bootstrap.min.css set `[hidden] { display: none !important; }` so we also need the `!important` here to be able to override the default hidden behavior on the sphinx rendered scikit-learn.org. See: https://github.com/scikit-learn/scikit-learn/issues/21755 */display: inline-block !important;position: relative;}#sk-container-id-7 div.sk-text-repr-fallback {display: none;}</style><div id=\"sk-container-id-7\" class=\"sk-top-container\"><div class=\"sk-text-repr-fallback\"><pre>FactorAnalyzer(rotation=&#x27;varimax&#x27;, rotation_kwargs={})</pre><b>In a Jupyter environment, please rerun this cell to show the HTML representation or trust the notebook. <br />On GitHub, the HTML representation is unable to render, please try loading this page with nbviewer.org.</b></div><div class=\"sk-container\" hidden><div class=\"sk-item\"><div class=\"sk-estimator sk-toggleable\"><input class=\"sk-toggleable__control sk-hidden--visually\" id=\"sk-estimator-id-7\" type=\"checkbox\" checked><label for=\"sk-estimator-id-7\" class=\"sk-toggleable__label sk-toggleable__label-arrow\">FactorAnalyzer</label><div class=\"sk-toggleable__content\"><pre>FactorAnalyzer(rotation=&#x27;varimax&#x27;, rotation_kwargs={})</pre></div></div></div></div></div>"
      ],
      "text/plain": [
       "FactorAnalyzer(rotation='varimax', rotation_kwargs={})"
      ]
     },
     "execution_count": 137,
     "metadata": {},
     "output_type": "execute_result"
    }
   ],
   "source": [
    "fa = FactorAnalyzer(3, rotation='varimax')\n",
    "fa.fit(x)\n",
    "# loads = fa.loadings_\n",
    "# print(loads)"
   ]
  },
  {
   "cell_type": "code",
   "execution_count": 138,
   "metadata": {},
   "outputs": [
    {
     "data": {
      "text/html": [
       "<style type=\"text/css\">\n",
       "#T_18005_row2_col0, #T_18005_row4_col2, #T_18005_row8_col1 {\n",
       "  background-color: darkgreen;\n",
       "}\n",
       "</style>\n",
       "<table id=\"T_18005\">\n",
       "  <thead>\n",
       "    <tr>\n",
       "      <th class=\"blank level0\" >&nbsp;</th>\n",
       "      <th id=\"T_18005_level0_col0\" class=\"col_heading level0 col0\" >Factor_1</th>\n",
       "      <th id=\"T_18005_level0_col1\" class=\"col_heading level0 col1\" >Factor_2</th>\n",
       "      <th id=\"T_18005_level0_col2\" class=\"col_heading level0 col2\" >Factor_3</th>\n",
       "    </tr>\n",
       "    <tr>\n",
       "      <th class=\"index_name level0\" >variables</th>\n",
       "      <th class=\"blank col0\" >&nbsp;</th>\n",
       "      <th class=\"blank col1\" >&nbsp;</th>\n",
       "      <th class=\"blank col2\" >&nbsp;</th>\n",
       "    </tr>\n",
       "  </thead>\n",
       "  <tbody>\n",
       "    <tr>\n",
       "      <th id=\"T_18005_level0_row0\" class=\"row_heading level0 row0\" >Baggage handling</th>\n",
       "      <td id=\"T_18005_row0_col0\" class=\"data row0 col0\" >0.023463</td>\n",
       "      <td id=\"T_18005_row0_col1\" class=\"data row0 col1\" >0.764748</td>\n",
       "      <td id=\"T_18005_row0_col2\" class=\"data row0 col2\" >0.027693</td>\n",
       "    </tr>\n",
       "    <tr>\n",
       "      <th id=\"T_18005_level0_row1\" class=\"row_heading level0 row1\" >Checkin service</th>\n",
       "      <td id=\"T_18005_row1_col0\" class=\"data row1 col0\" >0.143512</td>\n",
       "      <td id=\"T_18005_row1_col1\" class=\"data row1 col1\" >0.284182</td>\n",
       "      <td id=\"T_18005_row1_col2\" class=\"data row1 col2\" >0.028882</td>\n",
       "    </tr>\n",
       "    <tr>\n",
       "      <th id=\"T_18005_level0_row2\" class=\"row_heading level0 row2\" >Cleanliness</th>\n",
       "      <td id=\"T_18005_row2_col0\" class=\"data row2 col0\" >0.858420</td>\n",
       "      <td id=\"T_18005_row2_col1\" class=\"data row2 col1\" >0.088148</td>\n",
       "      <td id=\"T_18005_row2_col2\" class=\"data row2 col2\" >-0.001708</td>\n",
       "    </tr>\n",
       "    <tr>\n",
       "      <th id=\"T_18005_level0_row3\" class=\"row_heading level0 row3\" >Departure/Arrival time convenient</th>\n",
       "      <td id=\"T_18005_row3_col0\" class=\"data row3 col0\" >-0.029508</td>\n",
       "      <td id=\"T_18005_row3_col1\" class=\"data row3 col1\" >0.059681</td>\n",
       "      <td id=\"T_18005_row3_col2\" class=\"data row3 col2\" >0.501384</td>\n",
       "    </tr>\n",
       "    <tr>\n",
       "      <th id=\"T_18005_level0_row4\" class=\"row_heading level0 row4\" >Ease of Online booking</th>\n",
       "      <td id=\"T_18005_row4_col0\" class=\"data row4 col0\" >0.030231</td>\n",
       "      <td id=\"T_18005_row4_col1\" class=\"data row4 col1\" >0.020914</td>\n",
       "      <td id=\"T_18005_row4_col2\" class=\"data row4 col2\" >0.932775</td>\n",
       "    </tr>\n",
       "    <tr>\n",
       "      <th id=\"T_18005_level0_row5\" class=\"row_heading level0 row5\" >Food and drink</th>\n",
       "      <td id=\"T_18005_row5_col0\" class=\"data row5 col0\" >0.752639</td>\n",
       "      <td id=\"T_18005_row5_col1\" class=\"data row5 col1\" >0.010946</td>\n",
       "      <td id=\"T_18005_row5_col2\" class=\"data row5 col2\" >0.006167</td>\n",
       "    </tr>\n",
       "    <tr>\n",
       "      <th id=\"T_18005_level0_row6\" class=\"row_heading level0 row6\" >Gate location</th>\n",
       "      <td id=\"T_18005_row6_col0\" class=\"data row6 col0\" >-0.033828</td>\n",
       "      <td id=\"T_18005_row6_col1\" class=\"data row6 col1\" >-0.032311</td>\n",
       "      <td id=\"T_18005_row6_col2\" class=\"data row6 col2\" >0.504044</td>\n",
       "    </tr>\n",
       "    <tr>\n",
       "      <th id=\"T_18005_level0_row7\" class=\"row_heading level0 row7\" >Inflight entertainment</th>\n",
       "      <td id=\"T_18005_row7_col0\" class=\"data row7 col0\" >0.745693</td>\n",
       "      <td id=\"T_18005_row7_col1\" class=\"data row7 col1\" >0.466750</td>\n",
       "      <td id=\"T_18005_row7_col2\" class=\"data row7 col2\" >0.012034</td>\n",
       "    </tr>\n",
       "    <tr>\n",
       "      <th id=\"T_18005_level0_row8\" class=\"row_heading level0 row8\" >Inflight service</th>\n",
       "      <td id=\"T_18005_row8_col0\" class=\"data row8 col0\" >0.018131</td>\n",
       "      <td id=\"T_18005_row8_col1\" class=\"data row8 col1\" >0.799771</td>\n",
       "      <td id=\"T_18005_row8_col2\" class=\"data row8 col2\" >0.018252</td>\n",
       "    </tr>\n",
       "    <tr>\n",
       "      <th id=\"T_18005_level0_row9\" class=\"row_heading level0 row9\" >Inflight wifi service</th>\n",
       "      <td id=\"T_18005_row9_col0\" class=\"data row9 col0\" >0.168270</td>\n",
       "      <td id=\"T_18005_row9_col1\" class=\"data row9 col1\" >0.128271</td>\n",
       "      <td id=\"T_18005_row9_col2\" class=\"data row9 col2\" >0.758091</td>\n",
       "    </tr>\n",
       "    <tr>\n",
       "      <th id=\"T_18005_level0_row10\" class=\"row_heading level0 row10\" >Leg room service</th>\n",
       "      <td id=\"T_18005_row10_col0\" class=\"data row10 col0\" >0.074455</td>\n",
       "      <td id=\"T_18005_row10_col1\" class=\"data row10 col1\" >0.481442</td>\n",
       "      <td id=\"T_18005_row10_col2\" class=\"data row10 col2\" >0.080650</td>\n",
       "    </tr>\n",
       "    <tr>\n",
       "      <th id=\"T_18005_level0_row11\" class=\"row_heading level0 row11\" >On-board service</th>\n",
       "      <td id=\"T_18005_row11_col0\" class=\"data row11 col0\" >0.093881</td>\n",
       "      <td id=\"T_18005_row11_col1\" class=\"data row11 col1\" >0.701154</td>\n",
       "      <td id=\"T_18005_row11_col2\" class=\"data row11 col2\" >0.029009</td>\n",
       "    </tr>\n",
       "    <tr>\n",
       "      <th id=\"T_18005_level0_row12\" class=\"row_heading level0 row12\" >Online boarding</th>\n",
       "      <td id=\"T_18005_row12_col0\" class=\"data row12 col0\" >0.395453</td>\n",
       "      <td id=\"T_18005_row12_col1\" class=\"data row12 col1\" >0.113811</td>\n",
       "      <td id=\"T_18005_row12_col2\" class=\"data row12 col2\" >0.359065</td>\n",
       "    </tr>\n",
       "    <tr>\n",
       "      <th id=\"T_18005_level0_row13\" class=\"row_heading level0 row13\" >Seat comfort</th>\n",
       "      <td id=\"T_18005_row13_col0\" class=\"data row13 col0\" >0.789990</td>\n",
       "      <td id=\"T_18005_row13_col1\" class=\"data row13 col1\" >0.081463</td>\n",
       "      <td id=\"T_18005_row13_col2\" class=\"data row13 col2\" >0.027258</td>\n",
       "    </tr>\n",
       "  </tbody>\n",
       "</table>\n"
      ],
      "text/plain": [
       "<pandas.io.formats.style.Styler at 0x28e43320dc0>"
      ]
     },
     "execution_count": 138,
     "metadata": {},
     "output_type": "execute_result"
    }
   ],
   "source": [
    "\n",
    "\n",
    "loads = fa.loadings_                                # get the factor loadings\n",
    "loads = pd.DataFrame(loads)                         # bring them into a data frame\n",
    "factor_head = []                                    # create an empty variable for collecting headings\n",
    "\n",
    "for f in range(1, loads.shape[1]+1):                # create a Factor x for each factor where x is 1, 2, ... \n",
    "    factor_head.append('Factor_'+str(f))\n",
    "\n",
    "loads.columns = factor_head                         # add the factor heads to the loads data frame\n",
    "loads['variables'] = variables                      # add the variable names to the loads data frame\n",
    "loads.set_index('variables', inplace=True)          # set the variables as the index\n",
    "loads.style.highlight_max(color = 'darkgreen', axis = 0)"
   ]
  },
  {
   "cell_type": "code",
   "execution_count": 139,
   "metadata": {},
   "outputs": [
    {
     "data": {
      "text/plain": [
       "<AxesSubplot: >"
      ]
     },
     "execution_count": 139,
     "metadata": {},
     "output_type": "execute_result"
    },
    {
     "data": {
      "image/png": "[encoded data removed]",
      "text/plain": [
       "<Figure size 400x400 with 2 Axes>"
      ]
     },
     "metadata": {},
     "output_type": "display_data"
    }
   ],
   "source": [
    "plt.figure(figsize=(4,4))\n",
    "c= loads.corr()\n",
    "sns.heatmap(c)"
   ]
  },
  {
   "cell_type": "code",
   "execution_count": 140,
   "metadata": {},
   "outputs": [],
   "source": [
    "# define a function that will identify the highest loading variable on each factor.\n",
    "\n",
    "# Argurments \n",
    "#     (1) the dataframe containing the loads \n",
    "#     (2) the factor name\n",
    "#     (3) the number of variable loading you want to see\n",
    "\n",
    "def factor_loading (loads_df, factor_name, n):\n",
    "      factor_df = loads_df[factor_name]\n",
    "      factor_df_as = factor_df.iloc[loads_df[factor_name].abs().argsort()][::-1]\n",
    "      print('-----------   ', factor_name, '   -------------------------')\n",
    "      print(factor_df_as.head(n))\n",
    "      return factor_df_as"
   ]
  },
  {
   "cell_type": "code",
   "execution_count": 141,
   "metadata": {},
   "outputs": [
    {
     "name": "stdout",
     "output_type": "stream",
     "text": [
      "-----------    Factor_1    -------------------------\n",
      "variables\n",
      "Cleanliness               0.858420\n",
      "Seat comfort              0.789990\n",
      "Food and drink            0.752639\n",
      "Inflight entertainment    0.745693\n",
      "Online boarding           0.395453\n",
      "Inflight wifi service     0.168270\n",
      "Checkin service           0.143512\n",
      "Name: Factor_1, dtype: float64\n",
      "-----------    Factor_2    -------------------------\n",
      "variables\n",
      "Inflight service          0.799771\n",
      "Baggage handling          0.764748\n",
      "On-board service          0.701154\n",
      "Leg room service          0.481442\n",
      "Inflight entertainment    0.466750\n",
      "Checkin service           0.284182\n",
      "Inflight wifi service     0.128271\n",
      "Name: Factor_2, dtype: float64\n",
      "-----------    Factor_3    -------------------------\n",
      "variables\n",
      "Ease of Online booking               0.932775\n",
      "Inflight wifi service                0.758091\n",
      "Gate location                        0.504044\n",
      "Departure/Arrival time convenient    0.501384\n",
      "Online boarding                      0.359065\n",
      "Leg room service                     0.080650\n",
      "On-board service                     0.029009\n",
      "Name: Factor_3, dtype: float64\n"
     ]
    }
   ],
   "source": [
    "for f in factor_head:\n",
    "      f = factor_loading(loads, f, 7)"
   ]
  },
  {
   "cell_type": "code",
   "execution_count": 142,
   "metadata": {},
   "outputs": [
    {
     "name": "stdout",
     "output_type": "stream",
     "text": [
      "SS Loadings: [2.70695385 2.29546721 2.0893549 ]\n",
      "Proportiion Var: [0.19335385 0.16396194 0.14923964]\n",
      "Cumulative Var: [0.19335385 0.35731579 0.50655543]\n"
     ]
    }
   ],
   "source": [
    "# Get variance of each factors\n",
    "Factor_Variance = fa.get_factor_variance()\n",
    "print(f'SS Loadings: {Factor_Variance[0]}')\n",
    "print(f'Proportiion Var: {Factor_Variance[1]}')\n",
    "print(f'Cumulative Var: {Factor_Variance[2]}')"
   ]
  },
  {
   "cell_type": "code",
   "execution_count": 143,
   "metadata": {},
   "outputs": [
    {
     "name": "stdout",
     "output_type": "stream",
     "text": [
      "(0.8762877916624101, array([0.875, 0.878])) (0.794291693309021, array([0.792, 0.796])) (0.7679754211110685, array([0.766, 0.77 ]))\n"
     ]
    }
   ],
   "source": [
    "\n",
    "#Create the factors\n",
    "factor1 = df[['Food and drink', 'Seat comfort', 'Inflight entertainment', 'Cleanliness']]\n",
    "factor2 = df[['On-board service', 'Baggage handling', 'Inflight service']]\n",
    "factor3 = df[['Inflight wifi service', 'Departure/Arrival time convenient', 'Ease of Online booking', 'Gate location']]\n",
    "\n",
    "#Get cronbach alpha\n",
    "factor1_alpha = pg.cronbach_alpha(factor1)\n",
    "factor2_alpha = pg.cronbach_alpha(factor2)\n",
    "factor3_alpha = pg.cronbach_alpha(factor3)\n",
    "print(factor1_alpha, factor2_alpha, factor3_alpha)"
   ]
  },
  {
   "cell_type": "code",
   "execution_count": 144,
   "metadata": {},
   "outputs": [],
   "source": [
    "# I don't understand how this code does what it does.\n",
    "# How does the funtion know about the factories?\n",
    "# I susspect that these factor are using all of the variable to but the factor not just the ones identified as significatnt.\n",
    "new_variables = fa.fit_transform(x)"
   ]
  },
  {
   "cell_type": "code",
   "execution_count": 145,
   "metadata": {},
   "outputs": [
    {
     "data": {
      "text/plain": [
       "array([[ 1.26861201,  0.62004252,  0.0798816 ],\n",
       "       [-1.88096531, -0.4541949 ,  0.12529103],\n",
       "       [ 1.41595808,  0.3401227 , -0.71489468],\n",
       "       ...,\n",
       "       [ 0.5799899 ,  0.35088142, -1.21598844],\n",
       "       [-1.92869116, -0.28474734, -1.06702265],\n",
       "       [-1.90731764, -0.71957062,  0.01083048]])"
      ]
     },
     "execution_count": 145,
     "metadata": {},
     "output_type": "execute_result"
    }
   ],
   "source": [
    "(new_variables)"
   ]
  },
  {
   "cell_type": "code",
   "execution_count": 146,
   "metadata": {},
   "outputs": [],
   "source": [
    "nv_df = pd.DataFrame(new_variables)"
   ]
  },
  {
   "cell_type": "code",
   "execution_count": 147,
   "metadata": {},
   "outputs": [
    {
     "data": {
      "text/html": [
       "<div>\n",
       "<style scoped>\n",
       "    .dataframe tbody tr th:only-of-type {\n",
       "        vertical-align: middle;\n",
       "    }\n",
       "\n",
       "    .dataframe tbody tr th {\n",
       "        vertical-align: top;\n",
       "    }\n",
       "\n",
       "    .dataframe thead th {\n",
       "        text-align: right;\n",
       "    }\n",
       "</style>\n",
       "<table border=\"1\" class=\"dataframe\">\n",
       "  <thead>\n",
       "    <tr style=\"text-align: right;\">\n",
       "      <th></th>\n",
       "      <th>Comfort</th>\n",
       "      <th>Service</th>\n",
       "      <th>Convenience</th>\n",
       "    </tr>\n",
       "  </thead>\n",
       "  <tbody>\n",
       "    <tr>\n",
       "      <th>0</th>\n",
       "      <td>1.268612</td>\n",
       "      <td>0.620043</td>\n",
       "      <td>0.079882</td>\n",
       "    </tr>\n",
       "    <tr>\n",
       "      <th>1</th>\n",
       "      <td>-1.880965</td>\n",
       "      <td>-0.454195</td>\n",
       "      <td>0.125291</td>\n",
       "    </tr>\n",
       "    <tr>\n",
       "      <th>2</th>\n",
       "      <td>1.415958</td>\n",
       "      <td>0.340123</td>\n",
       "      <td>-0.714895</td>\n",
       "    </tr>\n",
       "    <tr>\n",
       "      <th>3</th>\n",
       "      <td>-1.263913</td>\n",
       "      <td>-0.380717</td>\n",
       "      <td>1.271037</td>\n",
       "    </tr>\n",
       "    <tr>\n",
       "      <th>4</th>\n",
       "      <td>0.343459</td>\n",
       "      <td>-0.254943</td>\n",
       "      <td>0.168946</td>\n",
       "    </tr>\n",
       "    <tr>\n",
       "      <th>5</th>\n",
       "      <td>-1.949256</td>\n",
       "      <td>0.267424</td>\n",
       "      <td>-0.293395</td>\n",
       "    </tr>\n",
       "    <tr>\n",
       "      <th>6</th>\n",
       "      <td>-1.278611</td>\n",
       "      <td>0.409766</td>\n",
       "      <td>-0.411202</td>\n",
       "    </tr>\n",
       "    <tr>\n",
       "      <th>7</th>\n",
       "      <td>0.905011</td>\n",
       "      <td>1.236820</td>\n",
       "      <td>0.781344</td>\n",
       "    </tr>\n",
       "    <tr>\n",
       "      <th>8</th>\n",
       "      <td>-0.394362</td>\n",
       "      <td>-2.290404</td>\n",
       "      <td>-0.639608</td>\n",
       "    </tr>\n",
       "    <tr>\n",
       "      <th>9</th>\n",
       "      <td>-0.845307</td>\n",
       "      <td>-0.395135</td>\n",
       "      <td>0.309200</td>\n",
       "    </tr>\n",
       "  </tbody>\n",
       "</table>\n",
       "</div>"
      ],
      "text/plain": [
       "    Comfort   Service  Convenience\n",
       "0  1.268612  0.620043     0.079882\n",
       "1 -1.880965 -0.454195     0.125291\n",
       "2  1.415958  0.340123    -0.714895\n",
       "3 -1.263913 -0.380717     1.271037\n",
       "4  0.343459 -0.254943     0.168946\n",
       "5 -1.949256  0.267424    -0.293395\n",
       "6 -1.278611  0.409766    -0.411202\n",
       "7  0.905011  1.236820     0.781344\n",
       "8 -0.394362 -2.290404    -0.639608\n",
       "9 -0.845307 -0.395135     0.309200"
      ]
     },
     "execution_count": 147,
     "metadata": {},
     "output_type": "execute_result"
    }
   ],
   "source": [
    "nv_df.columns = ['Comfort', 'Service', 'Convenience']\n",
    "nv_df.head(10)"
   ]
  },
  {
   "cell_type": "code",
   "execution_count": 148,
   "metadata": {},
   "outputs": [
    {
     "data": {
      "text/plain": [
       "(103904, 14)"
      ]
     },
     "execution_count": 148,
     "metadata": {},
     "output_type": "execute_result"
    }
   ],
   "source": [
    "x.shape"
   ]
  },
  {
   "cell_type": "code",
   "execution_count": 149,
   "metadata": {},
   "outputs": [
    {
     "name": "stdout",
     "output_type": "stream",
     "text": [
      "                                          W          pval  normal\n",
      "Unnamed: 0                         0.961980  4.491320e-10   False\n",
      "id                                 0.958297  1.085340e-10   False\n",
      "Age                                0.986237  1.148789e-04   False\n",
      "Flight Distance                    0.884972  7.631114e-19   False\n",
      "Inflight wifi service              0.931142  2.106629e-14   False\n",
      "Departure/Arrival time convenient  0.892098  2.962624e-18   False\n",
      "Ease of Online booking             0.928825  1.139734e-14   False\n",
      "Gate location                      0.908592  8.962401e-17   False\n",
      "Food and drink                     0.898177  9.931495e-18   False\n",
      "Online boarding                    0.906301  5.441553e-17   False\n",
      "Seat comfort                       0.873573  9.856433e-20   False\n",
      "Inflight entertainment             0.883809  6.152163e-19   False\n",
      "On-board service                   0.888677  1.532661e-18   False\n",
      "Leg room service                   0.889054  1.646864e-18   False\n",
      "Baggage handling                   0.870738  6.051282e-20   False\n",
      "Checkin service                    0.898301  1.018438e-17   False\n",
      "Inflight service                   0.862803  1.609665e-20   False\n",
      "Cleanliness                        0.897396  8.477606e-18   False\n",
      "Departure Delay in Minutes         0.449949  2.004179e-36   False\n"
     ]
    }
   ],
   "source": [
    "df_test = df.sample(500)\n",
    "#value = pg.normality(df_test['Departure Delay in Minutes'])\n",
    "value = pg.normality(df_test)\n",
    "print(value)"
   ]
  },
  {
   "cell_type": "code",
   "execution_count": null,
   "metadata": {},
   "outputs": [],
   "source": []
  }
 ],
 "metadata": {
  "kernelspec": {
   "display_name": "base",
   "language": "python",
   "name": "python3"
  },
  "language_info": {
   "codemirror_mode": {
    "name": "ipython",
    "version": 3
   },
   "file_extension": ".py",
   "mimetype": "text/x-python",
   "name": "python",
   "nbconvert_exporter": "python",
   "pygments_lexer": "ipython3",
   "version": "3.9.13"
  },
  "orig_nbformat": 4,
  "vscode": {
   "interpreter": {
    "hash": "e7f336f9bec1e74624fa1ea8a759f275624ff514e02e1aa8e3e0a6d78d32a22a"
   }
  }
 },
 "nbformat": 4,
 "nbformat_minor": 2
}
