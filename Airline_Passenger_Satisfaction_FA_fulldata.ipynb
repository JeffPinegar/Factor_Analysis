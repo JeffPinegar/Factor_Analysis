{
 "cells": [
  {
   "cell_type": "code",
   "execution_count": 14,
   "metadata": {},
   "outputs": [],
   "source": [
    "import pandas as pd\n",
    "from factor_analyzer import FactorAnalyzer\n",
    "from factor_analyzer.factor_analyzer import calculate_kmo\n",
    "from factor_analyzer.factor_analyzer import calculate_bartlett_sphericity\n",
    "from sklearn.preprocessing import StandardScaler, MinMaxScaler, LabelEncoder\n",
    "from sklearn.preprocessing import OneHotEncoder\n",
    "import matplotlib.pyplot as plt\n",
    "import seaborn as sns\n",
    "\n",
    "import pingouin as pg   # https://pingouin-stats.org/build/html/index.html  usede for calculation of cronbach_alpha"
   ]
  },
  {
   "cell_type": "code",
   "execution_count": 15,
   "metadata": {},
   "outputs": [
    {
     "data": {
      "text/html": [
       "<div>\n",
       "<style scoped>\n",
       "    .dataframe tbody tr th:only-of-type {\n",
       "        vertical-align: middle;\n",
       "    }\n",
       "\n",
       "    .dataframe tbody tr th {\n",
       "        vertical-align: top;\n",
       "    }\n",
       "\n",
       "    .dataframe thead th {\n",
       "        text-align: right;\n",
       "    }\n",
       "</style>\n",
       "<table border=\"1\" class=\"dataframe\">\n",
       "  <thead>\n",
       "    <tr style=\"text-align: right;\">\n",
       "      <th></th>\n",
       "      <th>Unnamed: 0</th>\n",
       "      <th>id</th>\n",
       "      <th>Gender</th>\n",
       "      <th>Customer Type</th>\n",
       "      <th>Age</th>\n",
       "      <th>Type of Travel</th>\n",
       "      <th>Class</th>\n",
       "      <th>Flight Distance</th>\n",
       "      <th>Inflight wifi service</th>\n",
       "      <th>Departure/Arrival time convenient</th>\n",
       "      <th>...</th>\n",
       "      <th>Inflight entertainment</th>\n",
       "      <th>On-board service</th>\n",
       "      <th>Leg room service</th>\n",
       "      <th>Baggage handling</th>\n",
       "      <th>Checkin service</th>\n",
       "      <th>Inflight service</th>\n",
       "      <th>Cleanliness</th>\n",
       "      <th>Departure Delay in Minutes</th>\n",
       "      <th>Arrival Delay in Minutes</th>\n",
       "      <th>satisfaction</th>\n",
       "    </tr>\n",
       "  </thead>\n",
       "  <tbody>\n",
       "    <tr>\n",
       "      <th>0</th>\n",
       "      <td>0</td>\n",
       "      <td>70172</td>\n",
       "      <td>Male</td>\n",
       "      <td>Loyal Customer</td>\n",
       "      <td>13</td>\n",
       "      <td>Personal Travel</td>\n",
       "      <td>Eco Plus</td>\n",
       "      <td>460</td>\n",
       "      <td>3</td>\n",
       "      <td>4</td>\n",
       "      <td>...</td>\n",
       "      <td>5</td>\n",
       "      <td>4</td>\n",
       "      <td>3</td>\n",
       "      <td>4</td>\n",
       "      <td>4</td>\n",
       "      <td>5</td>\n",
       "      <td>5</td>\n",
       "      <td>25</td>\n",
       "      <td>18.0</td>\n",
       "      <td>neutral or dissatisfied</td>\n",
       "    </tr>\n",
       "    <tr>\n",
       "      <th>1</th>\n",
       "      <td>1</td>\n",
       "      <td>5047</td>\n",
       "      <td>Male</td>\n",
       "      <td>disloyal Customer</td>\n",
       "      <td>25</td>\n",
       "      <td>Business travel</td>\n",
       "      <td>Business</td>\n",
       "      <td>235</td>\n",
       "      <td>3</td>\n",
       "      <td>2</td>\n",
       "      <td>...</td>\n",
       "      <td>1</td>\n",
       "      <td>1</td>\n",
       "      <td>5</td>\n",
       "      <td>3</td>\n",
       "      <td>1</td>\n",
       "      <td>4</td>\n",
       "      <td>1</td>\n",
       "      <td>1</td>\n",
       "      <td>6.0</td>\n",
       "      <td>neutral or dissatisfied</td>\n",
       "    </tr>\n",
       "    <tr>\n",
       "      <th>2</th>\n",
       "      <td>2</td>\n",
       "      <td>110028</td>\n",
       "      <td>Female</td>\n",
       "      <td>Loyal Customer</td>\n",
       "      <td>26</td>\n",
       "      <td>Business travel</td>\n",
       "      <td>Business</td>\n",
       "      <td>1142</td>\n",
       "      <td>2</td>\n",
       "      <td>2</td>\n",
       "      <td>...</td>\n",
       "      <td>5</td>\n",
       "      <td>4</td>\n",
       "      <td>3</td>\n",
       "      <td>4</td>\n",
       "      <td>4</td>\n",
       "      <td>4</td>\n",
       "      <td>5</td>\n",
       "      <td>0</td>\n",
       "      <td>0.0</td>\n",
       "      <td>satisfied</td>\n",
       "    </tr>\n",
       "    <tr>\n",
       "      <th>3</th>\n",
       "      <td>3</td>\n",
       "      <td>24026</td>\n",
       "      <td>Female</td>\n",
       "      <td>Loyal Customer</td>\n",
       "      <td>25</td>\n",
       "      <td>Business travel</td>\n",
       "      <td>Business</td>\n",
       "      <td>562</td>\n",
       "      <td>2</td>\n",
       "      <td>5</td>\n",
       "      <td>...</td>\n",
       "      <td>2</td>\n",
       "      <td>2</td>\n",
       "      <td>5</td>\n",
       "      <td>3</td>\n",
       "      <td>1</td>\n",
       "      <td>4</td>\n",
       "      <td>2</td>\n",
       "      <td>11</td>\n",
       "      <td>9.0</td>\n",
       "      <td>neutral or dissatisfied</td>\n",
       "    </tr>\n",
       "    <tr>\n",
       "      <th>4</th>\n",
       "      <td>4</td>\n",
       "      <td>119299</td>\n",
       "      <td>Male</td>\n",
       "      <td>Loyal Customer</td>\n",
       "      <td>61</td>\n",
       "      <td>Business travel</td>\n",
       "      <td>Business</td>\n",
       "      <td>214</td>\n",
       "      <td>3</td>\n",
       "      <td>3</td>\n",
       "      <td>...</td>\n",
       "      <td>3</td>\n",
       "      <td>3</td>\n",
       "      <td>4</td>\n",
       "      <td>4</td>\n",
       "      <td>3</td>\n",
       "      <td>3</td>\n",
       "      <td>3</td>\n",
       "      <td>0</td>\n",
       "      <td>0.0</td>\n",
       "      <td>satisfied</td>\n",
       "    </tr>\n",
       "  </tbody>\n",
       "</table>\n",
       "<p>5 rows × 25 columns</p>\n",
       "</div>"
      ],
      "text/plain": [
       "   Unnamed: 0      id  Gender      Customer Type  Age   Type of Travel  \\\n",
       "0           0   70172    Male     Loyal Customer   13  Personal Travel   \n",
       "1           1    5047    Male  disloyal Customer   25  Business travel   \n",
       "2           2  110028  Female     Loyal Customer   26  Business travel   \n",
       "3           3   24026  Female     Loyal Customer   25  Business travel   \n",
       "4           4  119299    Male     Loyal Customer   61  Business travel   \n",
       "\n",
       "      Class  Flight Distance  Inflight wifi service  \\\n",
       "0  Eco Plus              460                      3   \n",
       "1  Business              235                      3   \n",
       "2  Business             1142                      2   \n",
       "3  Business              562                      2   \n",
       "4  Business              214                      3   \n",
       "\n",
       "   Departure/Arrival time convenient  ...  Inflight entertainment  \\\n",
       "0                                  4  ...                       5   \n",
       "1                                  2  ...                       1   \n",
       "2                                  2  ...                       5   \n",
       "3                                  5  ...                       2   \n",
       "4                                  3  ...                       3   \n",
       "\n",
       "   On-board service  Leg room service  Baggage handling  Checkin service  \\\n",
       "0                 4                 3                 4                4   \n",
       "1                 1                 5                 3                1   \n",
       "2                 4                 3                 4                4   \n",
       "3                 2                 5                 3                1   \n",
       "4                 3                 4                 4                3   \n",
       "\n",
       "   Inflight service  Cleanliness  Departure Delay in Minutes  \\\n",
       "0                 5            5                          25   \n",
       "1                 4            1                           1   \n",
       "2                 4            5                           0   \n",
       "3                 4            2                          11   \n",
       "4                 3            3                           0   \n",
       "\n",
       "   Arrival Delay in Minutes             satisfaction  \n",
       "0                      18.0  neutral or dissatisfied  \n",
       "1                       6.0  neutral or dissatisfied  \n",
       "2                       0.0                satisfied  \n",
       "3                       9.0  neutral or dissatisfied  \n",
       "4                       0.0                satisfied  \n",
       "\n",
       "[5 rows x 25 columns]"
      ]
     },
     "execution_count": 15,
     "metadata": {},
     "output_type": "execute_result"
    }
   ],
   "source": [
    "df= pd.read_csv(\"Airline_Passenger_Satisfaction_train.csv\")\n",
    "df.head()"
   ]
  },
  {
   "cell_type": "code",
   "execution_count": 16,
   "metadata": {},
   "outputs": [
    {
     "data": {
      "text/plain": [
       "Index(['Unnamed: 0', 'id', 'Gender', 'Customer Type', 'Age', 'Type of Travel',\n",
       "       'Class', 'Flight Distance', 'Inflight wifi service',\n",
       "       'Departure/Arrival time convenient', 'Ease of Online booking',\n",
       "       'Gate location', 'Food and drink', 'Online boarding', 'Seat comfort',\n",
       "       'Inflight entertainment', 'On-board service', 'Leg room service',\n",
       "       'Baggage handling', 'Checkin service', 'Inflight service',\n",
       "       'Cleanliness', 'Departure Delay in Minutes', 'Arrival Delay in Minutes',\n",
       "       'satisfaction'],\n",
       "      dtype='object')"
      ]
     },
     "execution_count": 16,
     "metadata": {},
     "output_type": "execute_result"
    }
   ],
   "source": [
    "df.columns"
   ]
  },
  {
   "cell_type": "code",
   "execution_count": 17,
   "metadata": {},
   "outputs": [
    {
     "data": {
      "text/plain": [
       "Unnamed: 0                             int64\n",
       "id                                     int64\n",
       "Gender                                object\n",
       "Customer Type                         object\n",
       "Age                                    int64\n",
       "Type of Travel                        object\n",
       "Class                                 object\n",
       "Flight Distance                        int64\n",
       "Inflight wifi service                  int64\n",
       "Departure/Arrival time convenient      int64\n",
       "Ease of Online booking                 int64\n",
       "Gate location                          int64\n",
       "Food and drink                         int64\n",
       "Online boarding                        int64\n",
       "Seat comfort                           int64\n",
       "Inflight entertainment                 int64\n",
       "On-board service                       int64\n",
       "Leg room service                       int64\n",
       "Baggage handling                       int64\n",
       "Checkin service                        int64\n",
       "Inflight service                       int64\n",
       "Cleanliness                            int64\n",
       "Departure Delay in Minutes             int64\n",
       "Arrival Delay in Minutes             float64\n",
       "satisfaction                          object\n",
       "dtype: object"
      ]
     },
     "execution_count": 17,
     "metadata": {},
     "output_type": "execute_result"
    }
   ],
   "source": [
    "df.dtypes"
   ]
  },
  {
   "attachments": {},
   "cell_type": "markdown",
   "metadata": {},
   "source": [
    "---\n",
    "### Correlation Visualization\n",
    "A quick look at the correlation matrix suggest there are underlying factors.  In particular it looks like there may be underlying factors with these variables.\n",
    "\n",
    "* Inflight wifi service, Departure/Arrival time convenient, Ease of Online booking, and Gate location are correlated.\n",
    "* Food and drink, Online boarding, Seat comfort, Inflight entertainment, and cleanliness\n",
    "* Inflight entertainment, On-board service, Leg room service, Baggage handling, Checkin service, and Inflight service"
   ]
  },
  {
   "cell_type": "code",
   "execution_count": 18,
   "metadata": {},
   "outputs": [
    {
     "name": "stderr",
     "output_type": "stream",
     "text": [
      "C:\\Users\\jspinega\\AppData\\Local\\Temp\\ipykernel_15664\\2369852186.py:2: FutureWarning: The default value of numeric_only in DataFrame.corr is deprecated. In a future version, it will default to False. Select only valid columns or specify the value of numeric_only to silence this warning.\n",
      "  c= df.corr()\n"
     ]
    },
    {
     "data": {
      "text/plain": [
       "<AxesSubplot: >"
      ]
     },
     "execution_count": 18,
     "metadata": {},
     "output_type": "execute_result"
    },
    {
     "data": {
      "image/png": "[encoded data removed]",
      "text/plain": [
       "<Figure size 1000x700 with 2 Axes>"
      ]
     },
     "metadata": {},
     "output_type": "display_data"
    }
   ],
   "source": [
    "plt.figure(figsize=(10,7))\n",
    "c= df.corr()\n",
    "sns.heatmap(c)"
   ]
  },
  {
   "cell_type": "code",
   "execution_count": 19,
   "metadata": {},
   "outputs": [],
   "source": [
    "# Extreamly high coorilation between “Departure Delay in Minutes” and the “Arrival Delay in Minutes” suggest that they are actually measuring the same thing.\n",
    "# So, we drop one of these varaiables.\n",
    "df.drop(['Arrival Delay in Minutes'], axis=1, inplace=True)"
   ]
  },
  {
   "cell_type": "code",
   "execution_count": 20,
   "metadata": {},
   "outputs": [],
   "source": [
    "x = pd.get_dummies(df)"
   ]
  },
  {
   "attachments": {},
   "cell_type": "markdown",
   "metadata": {},
   "source": [
    "Bartlett’s test of sphericity checks whether or not the observed variables intercorrelate at all using the observed correlation matrix against the identity matrix. If the test found statistically insignificant, you should not employ a factor analysis."
   ]
  },
  {
   "cell_type": "code",
   "execution_count": 21,
   "metadata": {},
   "outputs": [
    {
     "name": "stderr",
     "output_type": "stream",
     "text": [
      "c:\\Users\\jspinega\\Anaconda3\\lib\\site-packages\\factor_analyzer\\factor_analyzer.py:108: RuntimeWarning: invalid value encountered in log\n",
      "  statistic = -np.log(corr_det) * (n - 1 - (2 * p + 5) / 6)\n"
     ]
    },
    {
     "data": {
      "text/plain": [
       "(nan, nan)"
      ]
     },
     "execution_count": 21,
     "metadata": {},
     "output_type": "execute_result"
    }
   ],
   "source": [
    "# the results of this test suggest FA is not appropriate for this data set.  Some variable should be eliminated. \n",
    "chi_square_value,p_value=calculate_bartlett_sphericity(x)\n",
    "chi_square_value, p_value"
   ]
  },
  {
   "attachments": {},
   "cell_type": "markdown",
   "metadata": {},
   "source": [
    "Kaiser-Meyer-Olkin (KMO) Test measures the suitability of data for factor analysis. It determines the adequacy for each observed variable and for the complete model. KMO estimates the proportion of variance among all the observed variable. Lower proportion id more suitable for factor analysis. KMO values range between 0 and 1. Value of KMO less than 0.6 is considered inadequate."
   ]
  },
  {
   "cell_type": "code",
   "execution_count": 22,
   "metadata": {},
   "outputs": [
    {
     "name": "stderr",
     "output_type": "stream",
     "text": [
      "c:\\Users\\jspinega\\Anaconda3\\lib\\site-packages\\factor_analyzer\\utils.py:244: UserWarning: The inverse of the variance-covariance matrix was calculated using the Moore-Penrose generalized matrix inversion, due to its determinant being at or very close to zero.\n",
      "  warnings.warn(\n"
     ]
    },
    {
     "data": {
      "text/plain": [
       "0.6690245865307878"
      ]
     },
     "execution_count": 22,
     "metadata": {},
     "output_type": "execute_result"
    }
   ],
   "source": [
    "kmo_all,kmo_model=calculate_kmo(x)\n",
    "kmo_model"
   ]
  },
  {
   "cell_type": "code",
   "execution_count": 23,
   "metadata": {},
   "outputs": [],
   "source": [
    "# Standardization has no impact on the results, however I am leaving it for completness\n",
    "variables = x.columns.tolist()\n",
    "# should standarize\n",
    "scaler = StandardScaler().fit(x)\n",
    "\n",
    "# use the scaler to transform my training data\n",
    "x = scaler.transform(x)"
   ]
  },
  {
   "cell_type": "code",
   "execution_count": 24,
   "metadata": {},
   "outputs": [
    {
     "data": {
      "text/plain": [
       "[<matplotlib.lines.Line2D at 0x18d11d49460>]"
      ]
     },
     "execution_count": 24,
     "metadata": {},
     "output_type": "execute_result"
    },
    {
     "data": {
      "image/png": "[encoded data removed]",
      "text/plain": [
       "<Figure size 640x480 with 1 Axes>"
      ]
     },
     "metadata": {},
     "output_type": "display_data"
    }
   ],
   "source": [
    "# Perform the factor analysis\n",
    "fa = FactorAnalyzer()\n",
    "fa.fit(x, 10)\n",
    "\n",
    "#Get Eigen values and plot them\n",
    "ev, v = fa.get_eigenvalues()\n",
    "ev\n",
    "plt.plot(range(1,x.shape[1]+1),ev)"
   ]
  },
  {
   "attachments": {},
   "cell_type": "markdown",
   "metadata": {},
   "source": [
    "We will only use 6 factors here, given the big dropoff in eigenvalue after the 3rd factor."
   ]
  },
  {
   "cell_type": "code",
   "execution_count": 25,
   "metadata": {},
   "outputs": [
    {
     "data": {
      "text/html": [
       "<style>#sk-container-id-2 {color: black;background-color: white;}#sk-container-id-2 pre{padding: 0;}#sk-container-id-2 div.sk-toggleable {background-color: white;}#sk-container-id-2 label.sk-toggleable__label {cursor: pointer;display: block;width: 100%;margin-bottom: 0;padding: 0.3em;box-sizing: border-box;text-align: center;}#sk-container-id-2 label.sk-toggleable__label-arrow:before {content: \"▸\";float: left;margin-right: 0.25em;color: #696969;}#sk-container-id-2 label.sk-toggleable__label-arrow:hover:before {color: black;}#sk-container-id-2 div.sk-estimator:hover label.sk-toggleable__label-arrow:before {color: black;}#sk-container-id-2 div.sk-toggleable__content {max-height: 0;max-width: 0;overflow: hidden;text-align: left;background-color: #f0f8ff;}#sk-container-id-2 div.sk-toggleable__content pre {margin: 0.2em;color: black;border-radius: 0.25em;background-color: #f0f8ff;}#sk-container-id-2 input.sk-toggleable__control:checked~div.sk-toggleable__content {max-height: 200px;max-width: 100%;overflow: auto;}#sk-container-id-2 input.sk-toggleable__control:checked~label.sk-toggleable__label-arrow:before {content: \"▾\";}#sk-container-id-2 div.sk-estimator input.sk-toggleable__control:checked~label.sk-toggleable__label {background-color: #d4ebff;}#sk-container-id-2 div.sk-label input.sk-toggleable__control:checked~label.sk-toggleable__label {background-color: #d4ebff;}#sk-container-id-2 input.sk-hidden--visually {border: 0;clip: rect(1px 1px 1px 1px);clip: rect(1px, 1px, 1px, 1px);height: 1px;margin: -1px;overflow: hidden;padding: 0;position: absolute;width: 1px;}#sk-container-id-2 div.sk-estimator {font-family: monospace;background-color: #f0f8ff;border: 1px dotted black;border-radius: 0.25em;box-sizing: border-box;margin-bottom: 0.5em;}#sk-container-id-2 div.sk-estimator:hover {background-color: #d4ebff;}#sk-container-id-2 div.sk-parallel-item::after {content: \"\";width: 100%;border-bottom: 1px solid gray;flex-grow: 1;}#sk-container-id-2 div.sk-label:hover label.sk-toggleable__label {background-color: #d4ebff;}#sk-container-id-2 div.sk-serial::before {content: \"\";position: absolute;border-left: 1px solid gray;box-sizing: border-box;top: 0;bottom: 0;left: 50%;z-index: 0;}#sk-container-id-2 div.sk-serial {display: flex;flex-direction: column;align-items: center;background-color: white;padding-right: 0.2em;padding-left: 0.2em;position: relative;}#sk-container-id-2 div.sk-item {position: relative;z-index: 1;}#sk-container-id-2 div.sk-parallel {display: flex;align-items: stretch;justify-content: center;background-color: white;position: relative;}#sk-container-id-2 div.sk-item::before, #sk-container-id-2 div.sk-parallel-item::before {content: \"\";position: absolute;border-left: 1px solid gray;box-sizing: border-box;top: 0;bottom: 0;left: 50%;z-index: -1;}#sk-container-id-2 div.sk-parallel-item {display: flex;flex-direction: column;z-index: 1;position: relative;background-color: white;}#sk-container-id-2 div.sk-parallel-item:first-child::after {align-self: flex-end;width: 50%;}#sk-container-id-2 div.sk-parallel-item:last-child::after {align-self: flex-start;width: 50%;}#sk-container-id-2 div.sk-parallel-item:only-child::after {width: 0;}#sk-container-id-2 div.sk-dashed-wrapped {border: 1px dashed gray;margin: 0 0.4em 0.5em 0.4em;box-sizing: border-box;padding-bottom: 0.4em;background-color: white;}#sk-container-id-2 div.sk-label label {font-family: monospace;font-weight: bold;display: inline-block;line-height: 1.2em;}#sk-container-id-2 div.sk-label-container {text-align: center;}#sk-container-id-2 div.sk-container {/* jupyter's `normalize.less` sets `[hidden] { display: none; }` but bootstrap.min.css set `[hidden] { display: none !important; }` so we also need the `!important` here to be able to override the default hidden behavior on the sphinx rendered scikit-learn.org. See: https://github.com/scikit-learn/scikit-learn/issues/21755 */display: inline-block !important;position: relative;}#sk-container-id-2 div.sk-text-repr-fallback {display: none;}</style><div id=\"sk-container-id-2\" class=\"sk-top-container\"><div class=\"sk-text-repr-fallback\"><pre>FactorAnalyzer(n_factors=6, rotation=&#x27;varimax&#x27;, rotation_kwargs={})</pre><b>In a Jupyter environment, please rerun this cell to show the HTML representation or trust the notebook. <br />On GitHub, the HTML representation is unable to render, please try loading this page with nbviewer.org.</b></div><div class=\"sk-container\" hidden><div class=\"sk-item\"><div class=\"sk-estimator sk-toggleable\"><input class=\"sk-toggleable__control sk-hidden--visually\" id=\"sk-estimator-id-2\" type=\"checkbox\" checked><label for=\"sk-estimator-id-2\" class=\"sk-toggleable__label sk-toggleable__label-arrow\">FactorAnalyzer</label><div class=\"sk-toggleable__content\"><pre>FactorAnalyzer(n_factors=6, rotation=&#x27;varimax&#x27;, rotation_kwargs={})</pre></div></div></div></div></div>"
      ],
      "text/plain": [
       "FactorAnalyzer(n_factors=6, rotation='varimax', rotation_kwargs={})"
      ]
     },
     "execution_count": 25,
     "metadata": {},
     "output_type": "execute_result"
    }
   ],
   "source": [
    "fa = FactorAnalyzer(6, rotation='varimax')\n",
    "fa.fit(x)\n",
    "# loads = fa.loadings_\n",
    "# print(loads)"
   ]
  },
  {
   "cell_type": "code",
   "execution_count": 26,
   "metadata": {},
   "outputs": [
    {
     "data": {
      "text/html": [
       "<style type=\"text/css\">\n",
       "#T_d86f3_row6_col4, #T_d86f3_row16_col2, #T_d86f3_row17_col1, #T_d86f3_row20_col5, #T_d86f3_row21_col3, #T_d86f3_row23_col0 {\n",
       "  background-color: darkgreen;\n",
       "}\n",
       "</style>\n",
       "<table id=\"T_d86f3\">\n",
       "  <thead>\n",
       "    <tr>\n",
       "      <th class=\"blank level0\" >&nbsp;</th>\n",
       "      <th id=\"T_d86f3_level0_col0\" class=\"col_heading level0 col0\" >Factor_1</th>\n",
       "      <th id=\"T_d86f3_level0_col1\" class=\"col_heading level0 col1\" >Factor_2</th>\n",
       "      <th id=\"T_d86f3_level0_col2\" class=\"col_heading level0 col2\" >Factor_3</th>\n",
       "      <th id=\"T_d86f3_level0_col3\" class=\"col_heading level0 col3\" >Factor_4</th>\n",
       "      <th id=\"T_d86f3_level0_col4\" class=\"col_heading level0 col4\" >Factor_5</th>\n",
       "      <th id=\"T_d86f3_level0_col5\" class=\"col_heading level0 col5\" >Factor_6</th>\n",
       "    </tr>\n",
       "    <tr>\n",
       "      <th class=\"index_name level0\" >variables</th>\n",
       "      <th class=\"blank col0\" >&nbsp;</th>\n",
       "      <th class=\"blank col1\" >&nbsp;</th>\n",
       "      <th class=\"blank col2\" >&nbsp;</th>\n",
       "      <th class=\"blank col3\" >&nbsp;</th>\n",
       "      <th class=\"blank col4\" >&nbsp;</th>\n",
       "      <th class=\"blank col5\" >&nbsp;</th>\n",
       "    </tr>\n",
       "  </thead>\n",
       "  <tbody>\n",
       "    <tr>\n",
       "      <th id=\"T_d86f3_level0_row0\" class=\"row_heading level0 row0\" >Unnamed: 0</th>\n",
       "      <td id=\"T_d86f3_row0_col0\" class=\"data row0 col0\" >-0.000526</td>\n",
       "      <td id=\"T_d86f3_row0_col1\" class=\"data row0 col1\" >-0.001609</td>\n",
       "      <td id=\"T_d86f3_row0_col2\" class=\"data row0 col2\" >-0.000274</td>\n",
       "      <td id=\"T_d86f3_row0_col3\" class=\"data row0 col3\" >0.002794</td>\n",
       "      <td id=\"T_d86f3_row0_col4\" class=\"data row0 col4\" >0.001025</td>\n",
       "      <td id=\"T_d86f3_row0_col5\" class=\"data row0 col5\" >0.004104</td>\n",
       "    </tr>\n",
       "    <tr>\n",
       "      <th id=\"T_d86f3_level0_row1\" class=\"row_heading level0 row1\" >id</th>\n",
       "      <td id=\"T_d86f3_row1_col0\" class=\"data row1 col0\" >0.044331</td>\n",
       "      <td id=\"T_d86f3_row1_col1\" class=\"data row1 col1\" >-0.003053</td>\n",
       "      <td id=\"T_d86f3_row1_col2\" class=\"data row1 col2\" >0.088577</td>\n",
       "      <td id=\"T_d86f3_row1_col3\" class=\"data row1 col3\" >0.020409</td>\n",
       "      <td id=\"T_d86f3_row1_col4\" class=\"data row1 col4\" >-0.014338</td>\n",
       "      <td id=\"T_d86f3_row1_col5\" class=\"data row1 col5\" >-0.003843</td>\n",
       "    </tr>\n",
       "    <tr>\n",
       "      <th id=\"T_d86f3_level0_row2\" class=\"row_heading level0 row2\" >Age</th>\n",
       "      <td id=\"T_d86f3_row2_col0\" class=\"data row2 col0\" >0.145326</td>\n",
       "      <td id=\"T_d86f3_row2_col1\" class=\"data row2 col1\" >0.073663</td>\n",
       "      <td id=\"T_d86f3_row2_col2\" class=\"data row2 col2\" >-0.015866</td>\n",
       "      <td id=\"T_d86f3_row2_col3\" class=\"data row2 col3\" >0.285373</td>\n",
       "      <td id=\"T_d86f3_row2_col4\" class=\"data row2 col4\" >0.021022</td>\n",
       "      <td id=\"T_d86f3_row2_col5\" class=\"data row2 col5\" >0.008726</td>\n",
       "    </tr>\n",
       "    <tr>\n",
       "      <th id=\"T_d86f3_level0_row3\" class=\"row_heading level0 row3\" >Flight Distance</th>\n",
       "      <td id=\"T_d86f3_row3_col0\" class=\"data row3 col0\" >0.425421</td>\n",
       "      <td id=\"T_d86f3_row3_col1\" class=\"data row3 col1\" >0.038569</td>\n",
       "      <td id=\"T_d86f3_row3_col2\" class=\"data row3 col2\" >0.098620</td>\n",
       "      <td id=\"T_d86f3_row3_col3\" class=\"data row3 col3\" >0.237498</td>\n",
       "      <td id=\"T_d86f3_row3_col4\" class=\"data row3 col4\" >-0.018058</td>\n",
       "      <td id=\"T_d86f3_row3_col5\" class=\"data row3 col5\" >0.003353</td>\n",
       "    </tr>\n",
       "    <tr>\n",
       "      <th id=\"T_d86f3_level0_row4\" class=\"row_heading level0 row4\" >Inflight wifi service</th>\n",
       "      <td id=\"T_d86f3_row4_col0\" class=\"data row4 col0\" >0.102457</td>\n",
       "      <td id=\"T_d86f3_row4_col1\" class=\"data row4 col1\" >0.157633</td>\n",
       "      <td id=\"T_d86f3_row4_col2\" class=\"data row4 col2\" >0.119312</td>\n",
       "      <td id=\"T_d86f3_row4_col3\" class=\"data row4 col3\" >-0.032070</td>\n",
       "      <td id=\"T_d86f3_row4_col4\" class=\"data row4 col4\" >0.771788</td>\n",
       "      <td id=\"T_d86f3_row4_col5\" class=\"data row4 col5\" >0.009824</td>\n",
       "    </tr>\n",
       "    <tr>\n",
       "      <th id=\"T_d86f3_level0_row5\" class=\"row_heading level0 row5\" >Departure/Arrival time convenient</th>\n",
       "      <td id=\"T_d86f3_row5_col0\" class=\"data row5 col0\" >-0.224013</td>\n",
       "      <td id=\"T_d86f3_row5_col1\" class=\"data row5 col1\" >-0.022346</td>\n",
       "      <td id=\"T_d86f3_row5_col2\" class=\"data row5 col2\" >0.084167</td>\n",
       "      <td id=\"T_d86f3_row5_col3\" class=\"data row5 col3\" >0.189075</td>\n",
       "      <td id=\"T_d86f3_row5_col4\" class=\"data row5 col4\" >0.537253</td>\n",
       "      <td id=\"T_d86f3_row5_col5\" class=\"data row5 col5\" >0.022181</td>\n",
       "    </tr>\n",
       "    <tr>\n",
       "      <th id=\"T_d86f3_level0_row6\" class=\"row_heading level0 row6\" >Ease of Online booking</th>\n",
       "      <td id=\"T_d86f3_row6_col0\" class=\"data row6 col0\" >0.148183</td>\n",
       "      <td id=\"T_d86f3_row6_col1\" class=\"data row6 col1\" >-0.001972</td>\n",
       "      <td id=\"T_d86f3_row6_col2\" class=\"data row6 col2\" >0.005317</td>\n",
       "      <td id=\"T_d86f3_row6_col3\" class=\"data row6 col3\" >-0.006615</td>\n",
       "      <td id=\"T_d86f3_row6_col4\" class=\"data row6 col4\" >0.898235</td>\n",
       "      <td id=\"T_d86f3_row6_col5\" class=\"data row6 col5\" >0.016245</td>\n",
       "    </tr>\n",
       "    <tr>\n",
       "      <th id=\"T_d86f3_level0_row7\" class=\"row_heading level0 row7\" >Gate location</th>\n",
       "      <td id=\"T_d86f3_row7_col0\" class=\"data row7 col0\" >-0.016582</td>\n",
       "      <td id=\"T_d86f3_row7_col1\" class=\"data row7 col1\" >-0.031409</td>\n",
       "      <td id=\"T_d86f3_row7_col2\" class=\"data row7 col2\" >-0.034210</td>\n",
       "      <td id=\"T_d86f3_row7_col3\" class=\"data row7 col3\" >-0.023809</td>\n",
       "      <td id=\"T_d86f3_row7_col4\" class=\"data row7 col4\" >0.506894</td>\n",
       "      <td id=\"T_d86f3_row7_col5\" class=\"data row7 col5\" >0.012073</td>\n",
       "    </tr>\n",
       "    <tr>\n",
       "      <th id=\"T_d86f3_level0_row8\" class=\"row_heading level0 row8\" >Food and drink</th>\n",
       "      <td id=\"T_d86f3_row8_col0\" class=\"data row8 col0\" >0.028162</td>\n",
       "      <td id=\"T_d86f3_row8_col1\" class=\"data row8 col1\" >0.762954</td>\n",
       "      <td id=\"T_d86f3_row8_col2\" class=\"data row8 col2\" >0.013524</td>\n",
       "      <td id=\"T_d86f3_row8_col3\" class=\"data row8 col3\" >-0.001774</td>\n",
       "      <td id=\"T_d86f3_row8_col4\" class=\"data row8 col4\" >0.017536</td>\n",
       "      <td id=\"T_d86f3_row8_col5\" class=\"data row8 col5\" >-0.006907</td>\n",
       "    </tr>\n",
       "    <tr>\n",
       "      <th id=\"T_d86f3_level0_row9\" class=\"row_heading level0 row9\" >Online boarding</th>\n",
       "      <td id=\"T_d86f3_row9_col0\" class=\"data row9 col0\" >0.375333</td>\n",
       "      <td id=\"T_d86f3_row9_col1\" class=\"data row9 col1\" >0.340764</td>\n",
       "      <td id=\"T_d86f3_row9_col2\" class=\"data row9 col2\" >0.115315</td>\n",
       "      <td id=\"T_d86f3_row9_col3\" class=\"data row9 col3\" >0.199215</td>\n",
       "      <td id=\"T_d86f3_row9_col4\" class=\"data row9 col4\" >0.347083</td>\n",
       "      <td id=\"T_d86f3_row9_col5\" class=\"data row9 col5\" >-0.049599</td>\n",
       "    </tr>\n",
       "    <tr>\n",
       "      <th id=\"T_d86f3_level0_row10\" class=\"row_heading level0 row10\" >Seat comfort</th>\n",
       "      <td id=\"T_d86f3_row10_col0\" class=\"data row10 col0\" >0.177507</td>\n",
       "      <td id=\"T_d86f3_row10_col1\" class=\"data row10 col1\" >0.753440</td>\n",
       "      <td id=\"T_d86f3_row10_col2\" class=\"data row10 col2\" >0.085678</td>\n",
       "      <td id=\"T_d86f3_row10_col3\" class=\"data row10 col3\" >0.135330</td>\n",
       "      <td id=\"T_d86f3_row10_col4\" class=\"data row10 col4\" >0.017604</td>\n",
       "      <td id=\"T_d86f3_row10_col5\" class=\"data row10 col5\" >-0.042874</td>\n",
       "    </tr>\n",
       "    <tr>\n",
       "      <th id=\"T_d86f3_level0_row11\" class=\"row_heading level0 row11\" >Inflight entertainment</th>\n",
       "      <td id=\"T_d86f3_row11_col0\" class=\"data row11 col0\" >0.104503</td>\n",
       "      <td id=\"T_d86f3_row11_col1\" class=\"data row11 col1\" >0.736049</td>\n",
       "      <td id=\"T_d86f3_row11_col2\" class=\"data row11 col2\" >0.450490</td>\n",
       "      <td id=\"T_d86f3_row11_col3\" class=\"data row11 col3\" >0.006899</td>\n",
       "      <td id=\"T_d86f3_row11_col4\" class=\"data row11 col4\" >0.021246</td>\n",
       "      <td id=\"T_d86f3_row11_col5\" class=\"data row11 col5\" >-0.013129</td>\n",
       "    </tr>\n",
       "    <tr>\n",
       "      <th id=\"T_d86f3_level0_row12\" class=\"row_heading level0 row12\" >On-board service</th>\n",
       "      <td id=\"T_d86f3_row12_col0\" class=\"data row12 col0\" >0.088308</td>\n",
       "      <td id=\"T_d86f3_row12_col1\" class=\"data row12 col1\" >0.076423</td>\n",
       "      <td id=\"T_d86f3_row12_col2\" class=\"data row12 col2\" >0.696312</td>\n",
       "      <td id=\"T_d86f3_row12_col3\" class=\"data row12 col3\" >0.022231</td>\n",
       "      <td id=\"T_d86f3_row12_col4\" class=\"data row12 col4\" >0.024217</td>\n",
       "      <td id=\"T_d86f3_row12_col5\" class=\"data row12 col5\" >-0.007272</td>\n",
       "    </tr>\n",
       "    <tr>\n",
       "      <th id=\"T_d86f3_level0_row13\" class=\"row_heading level0 row13\" >Leg room service</th>\n",
       "      <td id=\"T_d86f3_row13_col0\" class=\"data row13 col0\" >0.171807</td>\n",
       "      <td id=\"T_d86f3_row13_col1\" class=\"data row13 col1\" >0.048020</td>\n",
       "      <td id=\"T_d86f3_row13_col2\" class=\"data row13 col2\" >0.475054</td>\n",
       "      <td id=\"T_d86f3_row13_col3\" class=\"data row13 col3\" >0.013700</td>\n",
       "      <td id=\"T_d86f3_row13_col4\" class=\"data row13 col4\" >0.069391</td>\n",
       "      <td id=\"T_d86f3_row13_col5\" class=\"data row13 col5\" >0.022039</td>\n",
       "    </tr>\n",
       "    <tr>\n",
       "      <th id=\"T_d86f3_level0_row14\" class=\"row_heading level0 row14\" >Baggage handling</th>\n",
       "      <td id=\"T_d86f3_row14_col0\" class=\"data row14 col0\" >0.014031</td>\n",
       "      <td id=\"T_d86f3_row14_col1\" class=\"data row14 col1\" >0.023978</td>\n",
       "      <td id=\"T_d86f3_row14_col2\" class=\"data row14 col2\" >0.756387</td>\n",
       "      <td id=\"T_d86f3_row14_col3\" class=\"data row14 col3\" >-0.080745</td>\n",
       "      <td id=\"T_d86f3_row14_col4\" class=\"data row14 col4\" >0.031656</td>\n",
       "      <td id=\"T_d86f3_row14_col5\" class=\"data row14 col5\" >0.021978</td>\n",
       "    </tr>\n",
       "    <tr>\n",
       "      <th id=\"T_d86f3_level0_row15\" class=\"row_heading level0 row15\" >Checkin service</th>\n",
       "      <td id=\"T_d86f3_row15_col0\" class=\"data row15 col0\" >0.069603</td>\n",
       "      <td id=\"T_d86f3_row15_col1\" class=\"data row15 col1\" >0.125561</td>\n",
       "      <td id=\"T_d86f3_row15_col2\" class=\"data row15 col2\" >0.308233</td>\n",
       "      <td id=\"T_d86f3_row15_col3\" class=\"data row15 col3\" >0.058931</td>\n",
       "      <td id=\"T_d86f3_row15_col4\" class=\"data row15 col4\" >0.022720</td>\n",
       "      <td id=\"T_d86f3_row15_col5\" class=\"data row15 col5\" >-0.001273</td>\n",
       "    </tr>\n",
       "    <tr>\n",
       "      <th id=\"T_d86f3_level0_row16\" class=\"row_heading level0 row16\" >Inflight service</th>\n",
       "      <td id=\"T_d86f3_row16_col0\" class=\"data row16 col0\" >-0.000687</td>\n",
       "      <td id=\"T_d86f3_row16_col1\" class=\"data row16 col1\" >0.021522</td>\n",
       "      <td id=\"T_d86f3_row16_col2\" class=\"data row16 col2\" >0.791121</td>\n",
       "      <td id=\"T_d86f3_row16_col3\" class=\"data row16 col3\" >-0.083169</td>\n",
       "      <td id=\"T_d86f3_row16_col4\" class=\"data row16 col4\" >0.023545</td>\n",
       "      <td id=\"T_d86f3_row16_col5\" class=\"data row16 col5\" >0.023232</td>\n",
       "    </tr>\n",
       "    <tr>\n",
       "      <th id=\"T_d86f3_level0_row17\" class=\"row_heading level0 row17\" >Cleanliness</th>\n",
       "      <td id=\"T_d86f3_row17_col0\" class=\"data row17 col0\" >0.069045</td>\n",
       "      <td id=\"T_d86f3_row17_col1\" class=\"data row17 col1\" >0.854925</td>\n",
       "      <td id=\"T_d86f3_row17_col2\" class=\"data row17 col2\" >0.096248</td>\n",
       "      <td id=\"T_d86f3_row17_col3\" class=\"data row17 col3\" >0.029216</td>\n",
       "      <td id=\"T_d86f3_row17_col4\" class=\"data row17 col4\" >0.007436</td>\n",
       "      <td id=\"T_d86f3_row17_col5\" class=\"data row17 col5\" >-0.010987</td>\n",
       "    </tr>\n",
       "    <tr>\n",
       "      <th id=\"T_d86f3_level0_row18\" class=\"row_heading level0 row18\" >Departure Delay in Minutes</th>\n",
       "      <td id=\"T_d86f3_row18_col0\" class=\"data row18 col0\" >-0.006487</td>\n",
       "      <td id=\"T_d86f3_row18_col1\" class=\"data row18 col1\" >-0.027129</td>\n",
       "      <td id=\"T_d86f3_row18_col2\" class=\"data row18 col2\" >-0.036776</td>\n",
       "      <td id=\"T_d86f3_row18_col3\" class=\"data row18 col3\" >-0.006539</td>\n",
       "      <td id=\"T_d86f3_row18_col4\" class=\"data row18 col4\" >-0.006045</td>\n",
       "      <td id=\"T_d86f3_row18_col5\" class=\"data row18 col5\" >0.004613</td>\n",
       "    </tr>\n",
       "    <tr>\n",
       "      <th id=\"T_d86f3_level0_row19\" class=\"row_heading level0 row19\" >Gender_Female</th>\n",
       "      <td id=\"T_d86f3_row19_col0\" class=\"data row19 col0\" >-0.010767</td>\n",
       "      <td id=\"T_d86f3_row19_col1\" class=\"data row19 col1\" >-0.018092</td>\n",
       "      <td id=\"T_d86f3_row19_col2\" class=\"data row19 col2\" >-0.019746</td>\n",
       "      <td id=\"T_d86f3_row19_col3\" class=\"data row19 col3\" >0.017234</td>\n",
       "      <td id=\"T_d86f3_row19_col4\" class=\"data row19 col4\" >0.012638</td>\n",
       "      <td id=\"T_d86f3_row19_col5\" class=\"data row19 col5\" >-0.998005</td>\n",
       "    </tr>\n",
       "    <tr>\n",
       "      <th id=\"T_d86f3_level0_row20\" class=\"row_heading level0 row20\" >Gender_Male</th>\n",
       "      <td id=\"T_d86f3_row20_col0\" class=\"data row20 col0\" >0.010767</td>\n",
       "      <td id=\"T_d86f3_row20_col1\" class=\"data row20 col1\" >0.018092</td>\n",
       "      <td id=\"T_d86f3_row20_col2\" class=\"data row20 col2\" >0.019746</td>\n",
       "      <td id=\"T_d86f3_row20_col3\" class=\"data row20 col3\" >-0.017234</td>\n",
       "      <td id=\"T_d86f3_row20_col4\" class=\"data row20 col4\" >-0.012638</td>\n",
       "      <td id=\"T_d86f3_row20_col5\" class=\"data row20 col5\" >0.998005</td>\n",
       "    </tr>\n",
       "    <tr>\n",
       "      <th id=\"T_d86f3_level0_row21\" class=\"row_heading level0 row21\" >Customer Type_Loyal Customer</th>\n",
       "      <td id=\"T_d86f3_row21_col0\" class=\"data row21 col0\" >-0.027388</td>\n",
       "      <td id=\"T_d86f3_row21_col1\" class=\"data row21 col1\" >0.066949</td>\n",
       "      <td id=\"T_d86f3_row21_col2\" class=\"data row21 col2\" >0.046269</td>\n",
       "      <td id=\"T_d86f3_row21_col3\" class=\"data row21 col3\" >0.963175</td>\n",
       "      <td id=\"T_d86f3_row21_col4\" class=\"data row21 col4\" >0.028449</td>\n",
       "      <td id=\"T_d86f3_row21_col5\" class=\"data row21 col5\" >0.049236</td>\n",
       "    </tr>\n",
       "    <tr>\n",
       "      <th id=\"T_d86f3_level0_row22\" class=\"row_heading level0 row22\" >Customer Type_disloyal Customer</th>\n",
       "      <td id=\"T_d86f3_row22_col0\" class=\"data row22 col0\" >0.027388</td>\n",
       "      <td id=\"T_d86f3_row22_col1\" class=\"data row22 col1\" >-0.066949</td>\n",
       "      <td id=\"T_d86f3_row22_col2\" class=\"data row22 col2\" >-0.046269</td>\n",
       "      <td id=\"T_d86f3_row22_col3\" class=\"data row22 col3\" >-0.963175</td>\n",
       "      <td id=\"T_d86f3_row22_col4\" class=\"data row22 col4\" >-0.028449</td>\n",
       "      <td id=\"T_d86f3_row22_col5\" class=\"data row22 col5\" >-0.049236</td>\n",
       "    </tr>\n",
       "    <tr>\n",
       "      <th id=\"T_d86f3_level0_row23\" class=\"row_heading level0 row23\" >Type of Travel_Business travel</th>\n",
       "      <td id=\"T_d86f3_row23_col0\" class=\"data row23 col0\" >0.854477</td>\n",
       "      <td id=\"T_d86f3_row23_col1\" class=\"data row23 col1\" >0.044248</td>\n",
       "      <td id=\"T_d86f3_row23_col2\" class=\"data row23 col2\" >-0.037913</td>\n",
       "      <td id=\"T_d86f3_row23_col3\" class=\"data row23 col3\" >-0.345007</td>\n",
       "      <td id=\"T_d86f3_row23_col4\" class=\"data row23 col4\" >0.007897</td>\n",
       "      <td id=\"T_d86f3_row23_col5\" class=\"data row23 col5\" >-0.019012</td>\n",
       "    </tr>\n",
       "    <tr>\n",
       "      <th id=\"T_d86f3_level0_row24\" class=\"row_heading level0 row24\" >Type of Travel_Personal Travel</th>\n",
       "      <td id=\"T_d86f3_row24_col0\" class=\"data row24 col0\" >-0.854477</td>\n",
       "      <td id=\"T_d86f3_row24_col1\" class=\"data row24 col1\" >-0.044248</td>\n",
       "      <td id=\"T_d86f3_row24_col2\" class=\"data row24 col2\" >0.037913</td>\n",
       "      <td id=\"T_d86f3_row24_col3\" class=\"data row24 col3\" >0.345007</td>\n",
       "      <td id=\"T_d86f3_row24_col4\" class=\"data row24 col4\" >-0.007897</td>\n",
       "      <td id=\"T_d86f3_row24_col5\" class=\"data row24 col5\" >0.019012</td>\n",
       "    </tr>\n",
       "    <tr>\n",
       "      <th id=\"T_d86f3_level0_row25\" class=\"row_heading level0 row25\" >Class_Business</th>\n",
       "      <td id=\"T_d86f3_row25_col0\" class=\"data row25 col0\" >0.774741</td>\n",
       "      <td id=\"T_d86f3_row25_col1\" class=\"data row25 col1\" >0.040999</td>\n",
       "      <td id=\"T_d86f3_row25_col2\" class=\"data row25 col2\" >0.218046</td>\n",
       "      <td id=\"T_d86f3_row25_col3\" class=\"data row25 col3\" >0.133506</td>\n",
       "      <td id=\"T_d86f3_row25_col4\" class=\"data row25 col4\" >-0.039598</td>\n",
       "      <td id=\"T_d86f3_row25_col5\" class=\"data row25 col5\" >-0.000888</td>\n",
       "    </tr>\n",
       "    <tr>\n",
       "      <th id=\"T_d86f3_level0_row26\" class=\"row_heading level0 row26\" >Class_Eco</th>\n",
       "      <td id=\"T_d86f3_row26_col0\" class=\"data row26 col0\" >-0.702674</td>\n",
       "      <td id=\"T_d86f3_row26_col1\" class=\"data row26 col1\" >-0.030525</td>\n",
       "      <td id=\"T_d86f3_row26_col2\" class=\"data row26 col2\" >-0.165924</td>\n",
       "      <td id=\"T_d86f3_row26_col3\" class=\"data row26 col3\" >-0.166210</td>\n",
       "      <td id=\"T_d86f3_row26_col4\" class=\"data row26 col4\" >0.032359</td>\n",
       "      <td id=\"T_d86f3_row26_col5\" class=\"data row26 col5\" >0.004257</td>\n",
       "    </tr>\n",
       "    <tr>\n",
       "      <th id=\"T_d86f3_level0_row27\" class=\"row_heading level0 row27\" >Class_Eco Plus</th>\n",
       "      <td id=\"T_d86f3_row27_col0\" class=\"data row27 col0\" >-0.093295</td>\n",
       "      <td id=\"T_d86f3_row27_col1\" class=\"data row27 col1\" >-0.031810</td>\n",
       "      <td id=\"T_d86f3_row27_col2\" class=\"data row27 col2\" >-0.083573</td>\n",
       "      <td id=\"T_d86f3_row27_col3\" class=\"data row27 col3\" >0.061557</td>\n",
       "      <td id=\"T_d86f3_row27_col4\" class=\"data row27 col4\" >0.001947</td>\n",
       "      <td id=\"T_d86f3_row27_col5\" class=\"data row27 col5\" >-0.005118</td>\n",
       "    </tr>\n",
       "    <tr>\n",
       "      <th id=\"T_d86f3_level0_row28\" class=\"row_heading level0 row28\" >satisfaction_neutral or dissatisfied</th>\n",
       "      <td id=\"T_d86f3_row28_col0\" class=\"data row28 col0\" >-0.634877</td>\n",
       "      <td id=\"T_d86f3_row28_col1\" class=\"data row28 col1\" >-0.281366</td>\n",
       "      <td id=\"T_d86f3_row28_col2\" class=\"data row28 col2\" >-0.365946</td>\n",
       "      <td id=\"T_d86f3_row28_col3\" class=\"data row28 col3\" >-0.188258</td>\n",
       "      <td id=\"T_d86f3_row28_col4\" class=\"data row28 col4\" >-0.140819</td>\n",
       "      <td id=\"T_d86f3_row28_col5\" class=\"data row28 col5\" >0.004201</td>\n",
       "    </tr>\n",
       "    <tr>\n",
       "      <th id=\"T_d86f3_level0_row29\" class=\"row_heading level0 row29\" >satisfaction_satisfied</th>\n",
       "      <td id=\"T_d86f3_row29_col0\" class=\"data row29 col0\" >0.634877</td>\n",
       "      <td id=\"T_d86f3_row29_col1\" class=\"data row29 col1\" >0.281366</td>\n",
       "      <td id=\"T_d86f3_row29_col2\" class=\"data row29 col2\" >0.365946</td>\n",
       "      <td id=\"T_d86f3_row29_col3\" class=\"data row29 col3\" >0.188258</td>\n",
       "      <td id=\"T_d86f3_row29_col4\" class=\"data row29 col4\" >0.140819</td>\n",
       "      <td id=\"T_d86f3_row29_col5\" class=\"data row29 col5\" >-0.004201</td>\n",
       "    </tr>\n",
       "  </tbody>\n",
       "</table>\n"
      ],
      "text/plain": [
       "<pandas.io.formats.style.Styler at 0x18d11ecdfa0>"
      ]
     },
     "execution_count": 26,
     "metadata": {},
     "output_type": "execute_result"
    }
   ],
   "source": [
    "# variables = x.columns.tolist()\n",
    "\n",
    "loads = fa.loadings_                                # get the factor loadings\n",
    "loads = pd.DataFrame(loads)                         # bring them into a data frame\n",
    "factor_head = []                                    # create an empty variable for collecting headings\n",
    "\n",
    "for f in range(1, loads.shape[1]+1):                # create a Factor x for each factor where x is 1, 2, ... \n",
    "    factor_head.append('Factor_'+str(f))\n",
    "\n",
    "loads.columns = factor_head                         # add the factor heads to the loads data frame\n",
    "loads['variables'] = variables                      # add the variable names to the loads data frame\n",
    "loads.set_index('variables', inplace=True)          # set the variables as the index\n",
    "loads.style.highlight_max(color = 'darkgreen', axis = 0)"
   ]
  },
  {
   "cell_type": "code",
   "execution_count": 27,
   "metadata": {},
   "outputs": [
    {
     "data": {
      "text/plain": [
       "<AxesSubplot: >"
      ]
     },
     "execution_count": 27,
     "metadata": {},
     "output_type": "execute_result"
    },
    {
     "data": {
      "image/png": "[encoded data removed]",
      "text/plain": [
       "<Figure size 400x400 with 2 Axes>"
      ]
     },
     "metadata": {},
     "output_type": "display_data"
    }
   ],
   "source": [
    "plt.figure(figsize=(4,4))\n",
    "c= loads.corr()\n",
    "sns.heatmap(c)"
   ]
  },
  {
   "cell_type": "code",
   "execution_count": 28,
   "metadata": {},
   "outputs": [],
   "source": [
    "# define a function that will identify the highest loading variable on each factor.\n",
    "\n",
    "# Argurments \n",
    "#     (1) the dataframe containing the loads \n",
    "#     (2) the factor name\n",
    "#     (3) the number of variable loading you want to see\n",
    "\n",
    "def factor_loading (loads_df, factor_name, n):\n",
    "      factor_df = loads_df[factor_name]\n",
    "      factor_df_as = factor_df.iloc[loads_df[factor_name].abs().argsort()][::-1]\n",
    "      print('-----------   ', factor_name, '   -------------------------')\n",
    "      print(factor_df_as.head(n))\n",
    "      return factor_df_as"
   ]
  },
  {
   "cell_type": "code",
   "execution_count": 29,
   "metadata": {},
   "outputs": [
    {
     "name": "stdout",
     "output_type": "stream",
     "text": [
      "-----------    Factor_1    -------------------------\n",
      "variables\n",
      "Type of Travel_Personal Travel         -0.854477\n",
      "Type of Travel_Business travel          0.854477\n",
      "Class_Business                          0.774741\n",
      "Class_Eco                              -0.702674\n",
      "satisfaction_satisfied                  0.634877\n",
      "satisfaction_neutral or dissatisfied   -0.634877\n",
      "Flight Distance                         0.425421\n",
      "Online boarding                         0.375333\n",
      "Departure/Arrival time convenient      -0.224013\n",
      "Seat comfort                            0.177507\n",
      "Name: Factor_1, dtype: float64\n",
      "-----------    Factor_2    -------------------------\n",
      "variables\n",
      "Cleanliness                             0.854925\n",
      "Food and drink                          0.762954\n",
      "Seat comfort                            0.753440\n",
      "Inflight entertainment                  0.736049\n",
      "Online boarding                         0.340764\n",
      "satisfaction_satisfied                  0.281366\n",
      "satisfaction_neutral or dissatisfied   -0.281366\n",
      "Inflight wifi service                   0.157633\n",
      "Checkin service                         0.125561\n",
      "On-board service                        0.076423\n",
      "Name: Factor_2, dtype: float64\n",
      "-----------    Factor_3    -------------------------\n",
      "variables\n",
      "Inflight service                        0.791121\n",
      "Baggage handling                        0.756387\n",
      "On-board service                        0.696312\n",
      "Leg room service                        0.475054\n",
      "Inflight entertainment                  0.450490\n",
      "satisfaction_satisfied                  0.365946\n",
      "satisfaction_neutral or dissatisfied   -0.365946\n",
      "Checkin service                         0.308233\n",
      "Class_Business                          0.218046\n",
      "Class_Eco                              -0.165924\n",
      "Name: Factor_3, dtype: float64\n",
      "-----------    Factor_4    -------------------------\n",
      "variables\n",
      "Customer Type_Loyal Customer            0.963175\n",
      "Customer Type_disloyal Customer        -0.963175\n",
      "Type of Travel_Personal Travel          0.345007\n",
      "Type of Travel_Business travel         -0.345007\n",
      "Age                                     0.285373\n",
      "Flight Distance                         0.237498\n",
      "Online boarding                         0.199215\n",
      "Departure/Arrival time convenient       0.189075\n",
      "satisfaction_satisfied                  0.188258\n",
      "satisfaction_neutral or dissatisfied   -0.188258\n",
      "Name: Factor_4, dtype: float64\n",
      "-----------    Factor_5    -------------------------\n",
      "variables\n",
      "Ease of Online booking                  0.898235\n",
      "Inflight wifi service                   0.771788\n",
      "Departure/Arrival time convenient       0.537253\n",
      "Gate location                           0.506894\n",
      "Online boarding                         0.347083\n",
      "satisfaction_satisfied                  0.140819\n",
      "satisfaction_neutral or dissatisfied   -0.140819\n",
      "Leg room service                        0.069391\n",
      "Class_Business                         -0.039598\n",
      "Class_Eco                               0.032359\n",
      "Name: Factor_5, dtype: float64\n",
      "-----------    Factor_6    -------------------------\n",
      "variables\n",
      "Gender_Female                       -0.998005\n",
      "Gender_Male                          0.998005\n",
      "Online boarding                     -0.049599\n",
      "Customer Type_Loyal Customer         0.049236\n",
      "Customer Type_disloyal Customer     -0.049236\n",
      "Seat comfort                        -0.042874\n",
      "Inflight service                     0.023232\n",
      "Departure/Arrival time convenient    0.022181\n",
      "Leg room service                     0.022039\n",
      "Baggage handling                     0.021978\n",
      "Name: Factor_6, dtype: float64\n"
     ]
    }
   ],
   "source": [
    "for f in factor_head:\n",
    "      f = factor_loading(loads, f, 10)"
   ]
  },
  {
   "cell_type": "code",
   "execution_count": 30,
   "metadata": {},
   "outputs": [
    {
     "name": "stdout",
     "output_type": "stream",
     "text": [
      "SS Loadings: [3.88905562 2.77299761 2.63607431 2.46638356 2.12248248 2.0050212 ]\n",
      "Proportiion Var: [0.12963519 0.09243325 0.08786914 0.08221279 0.07074942 0.06683404]\n",
      "Cumulative Var: [0.12963519 0.22206844 0.30993758 0.39215037 0.46289979 0.52973383]\n"
     ]
    }
   ],
   "source": [
    "# Get variance of each factors\n",
    "Factor_Variance = fa.get_factor_variance()\n",
    "print(f'SS Loadings: {Factor_Variance[0]}')\n",
    "print(f'Proportiion Var: {Factor_Variance[1]}')\n",
    "print(f'Cumulative Var: {Factor_Variance[2]}')"
   ]
  },
  {
   "attachments": {},
   "cell_type": "markdown",
   "metadata": {},
   "source": [
    "---\n",
    "The other file Airline_Passenger_Satisfaction_FA continues beyond here.  Creating the factors and building a dataframe based on the factors."
   ]
  },
  {
   "cell_type": "code",
   "execution_count": null,
   "metadata": {},
   "outputs": [],
   "source": []
  }
 ],
 "metadata": {
  "kernelspec": {
   "display_name": "base",
   "language": "python",
   "name": "python3"
  },
  "language_info": {
   "codemirror_mode": {
    "name": "ipython",
    "version": 3
   },
   "file_extension": ".py",
   "mimetype": "text/x-python",
   "name": "python",
   "nbconvert_exporter": "python",
   "pygments_lexer": "ipython3",
   "version": "3.9.13"
  },
  "orig_nbformat": 4,
  "vscode": {
   "interpreter": {
    "hash": "e7f336f9bec1e74624fa1ea8a759f275624ff514e02e1aa8e3e0a6d78d32a22a"
   }
  }
 },
 "nbformat": 4,
 "nbformat_minor": 2
}
